{
 "cells": [
  {
   "cell_type": "code",
   "execution_count": 0,
   "metadata": {
    "application/vnd.databricks.v1+cell": {
     "cellMetadata": {
      "byteLimit": 2048000,
      "rowLimit": 10000
     },
     "inputWidgets": {},
     "nuid": "96b4792f-fd26-4aef-bb2f-951fa01a4c8d",
     "showTitle": false,
     "tableResultSettingsMap": {},
     "title": ""
    }
   },
   "outputs": [],
   "source": [
    "from pyspark.sql.types import StructType, StructField, StringType, IntegerType, DoubleType, DateType\n",
    "from datetime import datetime\n",
    "from pyspark.sql.functions import year, month, to_date, col, sum, count, lag, round, when, struct, max\n",
    "from pyspark.sql.window import Window"
   ]
  },
  {
   "cell_type": "markdown",
   "metadata": {
    "application/vnd.databricks.v1+cell": {
     "cellMetadata": {
      "byteLimit": 2048000,
      "rowLimit": 10000
     },
     "inputWidgets": {},
     "nuid": "81d8c1bd-ea4f-4d67-847f-2978a9c04f85",
     "showTitle": false,
     "tableResultSettingsMap": {},
     "title": ""
    }
   },
   "source": [
    "# **Landing Zone**"
   ]
  },
  {
   "cell_type": "markdown",
   "metadata": {
    "application/vnd.databricks.v1+cell": {
     "cellMetadata": {
      "byteLimit": 2048000,
      "rowLimit": 10000
     },
     "inputWidgets": {},
     "nuid": "68bdc6e3-7e0a-49ac-aa52-4ffb7912d41b",
     "showTitle": false,
     "tableResultSettingsMap": {},
     "title": ""
    }
   },
   "source": [
    "_Orders_ _Data_"
   ]
  },
  {
   "cell_type": "code",
   "execution_count": 0,
   "metadata": {
    "application/vnd.databricks.v1+cell": {
     "cellMetadata": {
      "byteLimit": 2048000,
      "rowLimit": 10000
     },
     "inputWidgets": {},
     "nuid": "69d71239-0ba4-48db-b38c-d0e41f966ece",
     "showTitle": false,
     "tableResultSettingsMap": {},
     "title": ""
    }
   },
   "outputs": [],
   "source": [
    "orders_schema = StructType([\n",
    "    StructField(\"index\",StringType(), True),\n",
    "    StructField(\"order_id\", StringType(), True),\n",
    "    StructField(\"order_date\", StringType(), True),\n",
    "    StructField(\"item_id\", StringType(), True),\n",
    "    StructField(\"qty_ordered\", IntegerType(), True),\n",
    "    StructField(\"price\", DoubleType(), True),\n",
    "    StructField(\"value\", DoubleType(), True),\n",
    "    StructField(\"discount_amount\", DoubleType(), True),\n",
    "    StructField(\"total\", DoubleType(), True),\n",
    "    StructField(\"category\", StringType(), True),\n",
    "    StructField(\"payment_method\", StringType(), True),\n",
    "    StructField(\"cust_id\", StringType(), True),\n",
    "    StructField(\"final_status\", StringType(), True)\n",
    "])\n"
   ]
  },
  {
   "cell_type": "code",
   "execution_count": 0,
   "metadata": {
    "application/vnd.databricks.v1+cell": {
     "cellMetadata": {
      "byteLimit": 2048000,
      "rowLimit": 10000
     },
     "inputWidgets": {},
     "nuid": "83fd7ed3-6210-4b2b-836d-497e2223d09e",
     "showTitle": false,
     "tableResultSettingsMap": {},
     "title": ""
    }
   },
   "outputs": [
    {
     "output_type": "display_data",
     "data": {
      "text/html": [
       "<style scoped>\n",
       "  .table-result-container {\n",
       "    max-height: 300px;\n",
       "    overflow: auto;\n",
       "  }\n",
       "  table, th, td {\n",
       "    border: 1px solid black;\n",
       "    border-collapse: collapse;\n",
       "  }\n",
       "  th, td {\n",
       "    padding: 5px;\n",
       "  }\n",
       "  th {\n",
       "    text-align: left;\n",
       "  }\n",
       "</style><div class='table-result-container'><table class='table-result'><thead style='background-color: white'><tr><th>index</th><th>order_id</th><th>order_date</th><th>item_id</th><th>qty_ordered</th><th>price</th><th>value</th><th>discount_amount</th><th>total</th><th>category</th><th>payment_method</th><th>cust_id</th><th>final_status</th></tr></thead><tbody><tr><td>296</td><td>100438643</td><td>21/01/21</td><td>718698</td><td>2</td><td>6979.2</td><td>6979.2</td><td>0.0</td><td>6979.2</td><td>Mobiles & Tablets</td><td>cod</td><td>6702</td><td>cancelled</td></tr><tr><td>297</td><td>100439395</td><td>24/01/21</td><td>719994</td><td>2</td><td>6979.2</td><td>6979.2</td><td>0.0</td><td>6979.2</td><td>Mobiles & Tablets</td><td>cod</td><td>6702</td><td>received</td></tr><tr><td>298</td><td>100439912</td><td>25/01/21</td><td>721015</td><td>2</td><td>255.9</td><td>255.9</td><td>0.0</td><td>255.9</td><td>Men's Fashion</td><td>cod</td><td>6702</td><td>cancelled</td></tr><tr><td>407</td><td>100437996</td><td>18/01/21</td><td>717518</td><td>2</td><td>1894.6</td><td>1894.6</td><td>0.0</td><td>1894.6</td><td>Mobiles & Tablets</td><td>Easypay_MA</td><td>55731</td><td>cancelled</td></tr><tr><td>606</td><td>100430519</td><td>01/01/21</td><td>703609</td><td>2</td><td>49.9</td><td>49.9</td><td>0.0</td><td>49.9</td><td>Appliances</td><td>easypay_voucher</td><td>44445</td><td>cancelled</td></tr></tbody></table></div>"
      ]
     },
     "metadata": {
      "application/vnd.databricks.v1+output": {
       "addedWidgets": {},
       "aggData": [],
       "aggError": "",
       "aggOverflow": false,
       "aggSchema": [],
       "aggSeriesLimitReached": false,
       "aggType": "",
       "arguments": {},
       "columnCustomDisplayInfos": {},
       "data": [
        [
         "296",
         "100438643",
         "21/01/21",
         "718698",
         2,
         6979.2,
         6979.2,
         0.0,
         6979.2,
         "Mobiles & Tablets",
         "cod",
         "6702",
         "cancelled"
        ],
        [
         "297",
         "100439395",
         "24/01/21",
         "719994",
         2,
         6979.2,
         6979.2,
         0.0,
         6979.2,
         "Mobiles & Tablets",
         "cod",
         "6702",
         "received"
        ],
        [
         "298",
         "100439912",
         "25/01/21",
         "721015",
         2,
         255.9,
         255.9,
         0.0,
         255.9,
         "Men's Fashion",
         "cod",
         "6702",
         "cancelled"
        ],
        [
         "407",
         "100437996",
         "18/01/21",
         "717518",
         2,
         1894.6,
         1894.6,
         0.0,
         1894.6,
         "Mobiles & Tablets",
         "Easypay_MA",
         "55731",
         "cancelled"
        ],
        [
         "606",
         "100430519",
         "01/01/21",
         "703609",
         2,
         49.9,
         49.9,
         0.0,
         49.9,
         "Appliances",
         "easypay_voucher",
         "44445",
         "cancelled"
        ]
       ],
       "datasetInfos": [],
       "dbfsResultPath": null,
       "isJsonSchema": true,
       "metadata": {},
       "overflow": false,
       "plotOptions": {
        "customPlotOptions": {},
        "displayType": "table",
        "pivotAggregation": null,
        "pivotColumns": null,
        "xColumns": null,
        "yColumns": null
       },
       "removedWidgets": [],
       "schema": [
        {
         "metadata": "{}",
         "name": "index",
         "type": "\"string\""
        },
        {
         "metadata": "{}",
         "name": "order_id",
         "type": "\"string\""
        },
        {
         "metadata": "{}",
         "name": "order_date",
         "type": "\"string\""
        },
        {
         "metadata": "{}",
         "name": "item_id",
         "type": "\"string\""
        },
        {
         "metadata": "{}",
         "name": "qty_ordered",
         "type": "\"long\""
        },
        {
         "metadata": "{}",
         "name": "price",
         "type": "\"double\""
        },
        {
         "metadata": "{}",
         "name": "value",
         "type": "\"double\""
        },
        {
         "metadata": "{}",
         "name": "discount_amount",
         "type": "\"double\""
        },
        {
         "metadata": "{}",
         "name": "total",
         "type": "\"double\""
        },
        {
         "metadata": "{}",
         "name": "category",
         "type": "\"string\""
        },
        {
         "metadata": "{}",
         "name": "payment_method",
         "type": "\"string\""
        },
        {
         "metadata": "{}",
         "name": "cust_id",
         "type": "\"string\""
        },
        {
         "metadata": "{}",
         "name": "final_status",
         "type": "\"string\""
        }
       ],
       "type": "table"
      }
     },
     "output_type": "display_data"
    }
   ],
   "source": [
    "file_paths = [\"/Volumes/workspace/default/customer_and_orders_volume/orders_01_21.csv\",\n",
    "              \"/Volumes/workspace/default/customer_and_orders_volume/orders_02_21.csv\",\n",
    "              \"/Volumes/workspace/default/customer_and_orders_volume/orders_03_21.csv\",\n",
    "              \"/Volumes/workspace/default/customer_and_orders_volume/orders_04_21.csv\",\n",
    "              \"/Volumes/workspace/default/customer_and_orders_volume/orders_05_21.csv\",\n",
    "              \"/Volumes/workspace/default/customer_and_orders_volume/orders_06_21.csv\",\n",
    "              \"/Volumes/workspace/default/customer_and_orders_volume/orders_07_21.csv\",\n",
    "              \"/Volumes/workspace/default/customer_and_orders_volume/orders_08_21.csv\",\n",
    "              \"/Volumes/workspace/default/customer_and_orders_volume/orders_09_21.csv\"\n",
    "]\n",
    "# Reading the first file with schema\n",
    "orders_df = spark.read.csv(file_paths[0], header=True, schema=orders_schema)\n",
    "display(orders_df.head(5))"
   ]
  },
  {
   "cell_type": "code",
   "execution_count": 0,
   "metadata": {
    "application/vnd.databricks.v1+cell": {
     "cellMetadata": {
      "byteLimit": 2048000,
      "rowLimit": 10000
     },
     "inputWidgets": {},
     "nuid": "0fcca243-3054-422e-97cf-50a635fcf874",
     "showTitle": false,
     "tableResultSettingsMap": {},
     "title": ""
    }
   },
   "outputs": [
    {
     "output_type": "stream",
     "name": "stdout",
     "output_type": "stream",
     "text": [
      "17212\n"
     ]
    }
   ],
   "source": [
    "print(orders_df.count())"
   ]
  },
  {
   "cell_type": "code",
   "execution_count": 0,
   "metadata": {
    "application/vnd.databricks.v1+cell": {
     "cellMetadata": {
      "byteLimit": 2048000,
      "rowLimit": 10000
     },
     "inputWidgets": {},
     "nuid": "e46f96c2-157f-4033-b88b-1318a66489f5",
     "showTitle": false,
     "tableResultSettingsMap": {},
     "title": ""
    }
   },
   "outputs": [
    {
     "output_type": "stream",
     "name": "stdout",
     "output_type": "stream",
     "text": [
      "+-----+---------+----------+-------+-----------+------+------+---------------+------+-----------------+---------------+-------+------------+\n|index|order_id |order_date|item_id|qty_ordered|price |value |discount_amount|total |category         |payment_method |cust_id|final_status|\n+-----+---------+----------+-------+-----------+------+------+---------------+------+-----------------+---------------+-------+------------+\n|296  |100438643|21/01/21  |718698 |2          |6979.2|6979.2|0.0            |6979.2|Mobiles & Tablets|cod            |6702   |cancelled   |\n|297  |100439395|24/01/21  |719994 |2          |6979.2|6979.2|0.0            |6979.2|Mobiles & Tablets|cod            |6702   |received    |\n|298  |100439912|25/01/21  |721015 |2          |255.9 |255.9 |0.0            |255.9 |Men's Fashion    |cod            |6702   |cancelled   |\n|407  |100437996|18/01/21  |717518 |2          |1894.6|1894.6|0.0            |1894.6|Mobiles & Tablets|Easypay_MA     |55731  |cancelled   |\n|606  |100430519|01/01/21  |703609 |2          |49.9  |49.9  |0.0            |49.9  |Appliances       |easypay_voucher|44445  |cancelled   |\n|607  |100432179|04/01/21  |706727 |2          |2552.1|2552.1|0.0            |2552.1|Appliances       |cod            |44445  |received    |\n|608  |100432181|04/01/21  |706729 |2          |49.9  |49.9  |0.0            |49.9  |Appliances       |cod            |44445  |received    |\n|609  |100432188|04/01/21  |706755 |2          |139.9 |139.9 |0.0            |139.9 |Appliances       |cod            |44445  |received    |\n|610  |100433652|08/01/21  |709629 |2          |49.9  |49.9  |0.0            |49.9  |Men's Fashion    |cod            |44445  |received    |\n|611  |100433652|08/01/21  |709631 |2          |49.9  |49.9  |0.0            |49.9  |Men's Fashion    |cod            |44445  |received    |\n|612  |100435045|10/01/21  |711973 |2          |187.5 |187.5 |0.0            |187.5 |Men's Fashion    |cod            |44445  |received    |\n|613  |100435045|10/01/21  |711975 |2          |150.0 |150.0 |0.0            |150.0 |Men's Fashion    |cod            |44445  |received    |\n|614  |100435045|10/01/21  |711977 |2          |37.5  |37.5  |0.0            |37.5  |Men's Fashion    |cod            |44445  |received    |\n|615  |100435045|10/01/21  |711979 |2          |37.5  |37.5  |0.0            |37.5  |Men's Fashion    |cod            |44445  |received    |\n|616  |100435401|11/01/21  |712668 |2          |465.2 |465.2 |0.0            |465.2 |Appliances       |cod            |44445  |received    |\n|737  |100431010|02/01/21  |704564 |2          |112.0 |112.0 |0.0            |112.0 |Mobiles & Tablets|cod            |43257  |cancelled   |\n|771  |100437991|18/01/21  |717504 |2          |37.5  |37.5  |0.0            |37.5  |Men's Fashion    |cod            |35698  |received    |\n|772  |100437991|18/01/21  |717506 |2          |69.9  |69.9  |0.0            |69.9  |Men's Fashion    |cod            |35698  |received    |\n|773  |100437991|18/01/21  |717508 |2          |29.9  |29.9  |0.0            |29.9  |Women's Fashion  |cod            |35698  |received    |\n|987  |100430996|02/01/21  |704540 |2          |900.0 |900.0 |0.0            |900.0 |Others           |cod            |59587  |cancelled   |\n+-----+---------+----------+-------+-----------+------+------+---------------+------+-----------------+---------------+-------+------------+\nonly showing top 20 rows\n"
     ]
    }
   ],
   "source": [
    "# Reading and union the rest\n",
    "for file in file_paths[1:]:\n",
    "    df_part = spark.read.csv(file, header=True, schema=orders_schema)\n",
    "    orders_df = orders_df.union(df_part)\n",
    "orders_df.show(truncate=False)"
   ]
  },
  {
   "cell_type": "markdown",
   "metadata": {
    "application/vnd.databricks.v1+cell": {
     "cellMetadata": {
      "byteLimit": 2048000,
      "rowLimit": 10000
     },
     "inputWidgets": {},
     "nuid": "5011c268-3974-4ae1-a6e6-e22895df5772",
     "showTitle": false,
     "tableResultSettingsMap": {},
     "title": ""
    }
   },
   "source": [
    "_Customers Data_"
   ]
  },
  {
   "cell_type": "code",
   "execution_count": 0,
   "metadata": {
    "application/vnd.databricks.v1+cell": {
     "cellMetadata": {
      "byteLimit": 2048000,
      "rowLimit": 10000
     },
     "inputWidgets": {},
     "nuid": "001cc652-4c92-44e1-b647-502ee5fc3995",
     "showTitle": false,
     "tableResultSettingsMap": {},
     "title": ""
    }
   },
   "outputs": [],
   "source": [
    "customers_schema = StructType([\n",
    "    StructField(\"City\", StringType(), True),\n",
    "    StructField(\"County\", StringType(), True),\n",
    "    StructField(\"Customer Since\", DateType(), True),\n",
    "    StructField(\"E Mail\", StringType(), True),\n",
    "    StructField(\"Gender\", StringType(), True),\n",
    "    StructField(\"Place Name\", StringType(), True),\n",
    "    StructField(\"Region\", StringType(), True),\n",
    "    StructField(\"State\", StringType(), True),\n",
    "    StructField(\"Zip\", StringType(), True),\n",
    "    StructField(\"Age\", IntegerType(), True),\n",
    "    StructField(\"cust_id\", StringType(), True),\n",
    "    StructField(\"full_name\", StringType(), True)\n",
    "])"
   ]
  },
  {
   "cell_type": "code",
   "execution_count": 0,
   "metadata": {
    "application/vnd.databricks.v1+cell": {
     "cellMetadata": {
      "byteLimit": 2048000,
      "rowLimit": 10000
     },
     "inputWidgets": {},
     "nuid": "6769dd55-16cc-496f-8dd9-333e30540f62",
     "showTitle": false,
     "tableResultSettingsMap": {},
     "title": ""
    }
   },
   "outputs": [
    {
     "output_type": "stream",
     "name": "stdout",
     "output_type": "stream",
     "text": [
      "+------------+-----------+--------------+--------------------+------+------------+---------+-----+-----+----+-------+------------------+\n|        city|     county|customer_since|              e_mail|gender|  place_name|   region|state|  zip| age|cust_id|         full_name|\n+------------+-----------+--------------+--------------------+------+------------+---------+-----+-----+----+-------+------------------+\n|      Vinson|     Harmon|     8/22/2006|jani.titus@gmail.com|     F|      Vinson|    South|   OK|73571|43.0|60124.0|       Titus, Jani|\n|      Graham|   Bradford|      2/4/1981| lee.eaker@gmail.com|     M|      Graham|    South|   FL|32042|28.0|42485.0|        Eaker, Lee|\n| Grand Forks|Grand Forks|     6/27/2010|jason.simoneau@gm...|     M| Grand Forks|  Midwest|   ND|58201|65.0|53620.0|   Simoneau, Jason|\n| Laupahoehoe|     Hawaii|      4/3/1992|grover.bayless@ya...|     M| Laupahoehoe|     West|   HI|96764|33.0|56836.0|   Bayless, Grover|\n|      Glendo|     Platte|     6/21/2015|albertina.bensen@...|     F|      Glendo|     West|   WY|82213|73.0|60125.0| Bensen, Albertina|\n|  Farmington|     Oconee|    10/19/2016|drema.galle@gmail...|     F|  Farmington|    South|   GA|30638|64.0|51286.0|      Galle, Drema|\n|   Nashville|   Davidson|     7/10/2011|sheryll.newsome@g...|     F|   Nashville|    South|   TN|37245|75.0|60126.0|  Newsome, Sheryll|\n|     Warwick|       Kent|     5/11/1995|bernard.dewald@ho...|     M|     Warwick|Northeast|   RI| 2889|52.0|60127.0|   Dewald, Bernard|\n|    Sarasota|   Sarasota|     8/25/1998|hilario.brammer@h...|     M|    Sarasota|    South|   FL|34277|31.0|60128.0|  Brammer, Hilario|\n|  Brownstown|    Fayette|     3/31/2017|elizbeth.raminez@...|     F|  Brownstown|  Midwest|   IL|62418|71.0|56449.0| Raminez, Elizbeth|\n|Mill Springs|      Wayne|      3/5/2010|robbie.dinapoli@y...|     M|Mill Springs|    South|   KY|42632|43.0|60129.0|  Dinapoli, Robbie|\n|    Brighton|     Jersey|     8/24/2016|rachell.murguia@h...|     F|    Brighton|  Midwest|   IL|62012|66.0|60130.0|  Murguia, Rachell|\n|     Phoenix|   Maricopa|     7/20/2003|lauran.mayo@gmail...|     F|     Phoenix|     West|   AZ|85015|38.0|31655.0|      Mayo, Lauran|\n|  Fort Smith|  Sebastian|     3/11/1986|abe.waymire@yahoo.ca|     M|  Fort Smith|    South|   AR|72913|71.0|60131.0|      Waymire, Abe|\n|        Drew|  Sunflower|    12/22/2005|lenny.blount@appl...|     M|        Drew|    South|   MS|38737|64.0|15106.0|     Blount, Lenny|\n|      Snyder|      Dodge|     1/24/2013|romeo.hopps@outlo...|     M|      Snyder|  Midwest|   NE|68664|38.0|37011.0|      Hopps, Romeo|\n|    Riverton| Burlington|     5/28/2010|florentino.stough...|     M|    Riverton|Northeast|   NJ| 8076|60.0|52163.0|Stough, Florentino|\n|  Huntington|     Cabell|     1/17/2003|harrison.criss@ya...|     M|  Huntington|    South|   WV|25714|75.0|60132.0|   Criss, Harrison|\n|      Benton|     Benton|     7/12/2004|micah.coutee@gmai...|     M|      Benton|    South|   AR|72019|18.0|44511.0|     Coutee, Micah|\n|    El Monte|Los Angeles|    11/10/2015|wallace.henrich@y...|     M|    El Monte|     West|   CA|91734|46.0|60133.0|  Henrich, Wallace|\n+------------+-----------+--------------+--------------------+------+------------+---------+-----+-----+----+-------+------------------+\nonly showing top 20 rows\n"
     ]
    }
   ],
   "source": [
    "customers_df = spark.read.json(\"/Volumes/workspace/default/customer_and_orders_volume/customers.json\")\n",
    "\n",
    "# Cleaning column names: removal of spaces, special chars, making to lowercase\n",
    "def clean_column_names(df):\n",
    "    for col_name in df.columns:\n",
    "        new_col_name = col_name.strip().lower().replace(\" \", \"_\").replace(\"-\", \"_\")\n",
    "        df = df.withColumnRenamed(col_name, new_col_name)\n",
    "    return df\n",
    "\n",
    "# Apply cleaning\n",
    "customers_df_cleaned = clean_column_names(customers_df)\n",
    "customers_df_cleaned.show()"
   ]
  },
  {
   "cell_type": "markdown",
   "metadata": {
    "application/vnd.databricks.v1+cell": {
     "cellMetadata": {
      "byteLimit": 2048000,
      "rowLimit": 10000
     },
     "inputWidgets": {},
     "nuid": "704c159c-bee8-43a2-a24e-9de25f07ee80",
     "showTitle": false,
     "tableResultSettingsMap": {},
     "title": ""
    }
   },
   "source": [
    "# **Staging Layer**\n",
    "#### Cleaned and Partitioned Data\n",
    "Now we clean, transform, and optimize this orders for downstream querying."
   ]
  },
  {
   "cell_type": "code",
   "execution_count": 0,
   "metadata": {
    "application/vnd.databricks.v1+cell": {
     "cellMetadata": {
      "byteLimit": 2048000,
      "rowLimit": 10000
     },
     "inputWidgets": {},
     "nuid": "8d768da6-7102-43b2-9b54-215d844d58ec",
     "showTitle": false,
     "tableResultSettingsMap": {},
     "title": ""
    }
   },
   "outputs": [
    {
     "output_type": "stream",
     "name": "stdout",
     "output_type": "stream",
     "text": [
      "+-----+---------+----------+-------+-----------+------+------+---------------+------+-----------------+---------------+-------+------------+-----------------+----------+-----------+\n|index| order_id|order_date|item_id|qty_ordered| price| value|discount_amount| total|         category| payment_method|cust_id|final_status|order_date_parsed|order_year|order_month|\n+-----+---------+----------+-------+-----------+------+------+---------------+------+-----------------+---------------+-------+------------+-----------------+----------+-----------+\n|  296|100438643|  21/01/21| 718698|          2|6979.2|6979.2|            0.0|6979.2|Mobiles & Tablets|            cod|   6702|   cancelled|       2021-01-21|      2021|          1|\n|  297|100439395|  24/01/21| 719994|          2|6979.2|6979.2|            0.0|6979.2|Mobiles & Tablets|            cod|   6702|    received|       2021-01-24|      2021|          1|\n|  298|100439912|  25/01/21| 721015|          2| 255.9| 255.9|            0.0| 255.9|    Men's Fashion|            cod|   6702|   cancelled|       2021-01-25|      2021|          1|\n|  407|100437996|  18/01/21| 717518|          2|1894.6|1894.6|            0.0|1894.6|Mobiles & Tablets|     Easypay_MA|  55731|   cancelled|       2021-01-18|      2021|          1|\n|  606|100430519|  01/01/21| 703609|          2|  49.9|  49.9|            0.0|  49.9|       Appliances|easypay_voucher|  44445|   cancelled|       2021-01-01|      2021|          1|\n|  607|100432179|  04/01/21| 706727|          2|2552.1|2552.1|            0.0|2552.1|       Appliances|            cod|  44445|    received|       2021-01-04|      2021|          1|\n|  608|100432181|  04/01/21| 706729|          2|  49.9|  49.9|            0.0|  49.9|       Appliances|            cod|  44445|    received|       2021-01-04|      2021|          1|\n|  609|100432188|  04/01/21| 706755|          2| 139.9| 139.9|            0.0| 139.9|       Appliances|            cod|  44445|    received|       2021-01-04|      2021|          1|\n|  610|100433652|  08/01/21| 709629|          2|  49.9|  49.9|            0.0|  49.9|    Men's Fashion|            cod|  44445|    received|       2021-01-08|      2021|          1|\n|  611|100433652|  08/01/21| 709631|          2|  49.9|  49.9|            0.0|  49.9|    Men's Fashion|            cod|  44445|    received|       2021-01-08|      2021|          1|\n|  612|100435045|  10/01/21| 711973|          2| 187.5| 187.5|            0.0| 187.5|    Men's Fashion|            cod|  44445|    received|       2021-01-10|      2021|          1|\n|  613|100435045|  10/01/21| 711975|          2| 150.0| 150.0|            0.0| 150.0|    Men's Fashion|            cod|  44445|    received|       2021-01-10|      2021|          1|\n|  614|100435045|  10/01/21| 711977|          2|  37.5|  37.5|            0.0|  37.5|    Men's Fashion|            cod|  44445|    received|       2021-01-10|      2021|          1|\n|  615|100435045|  10/01/21| 711979|          2|  37.5|  37.5|            0.0|  37.5|    Men's Fashion|            cod|  44445|    received|       2021-01-10|      2021|          1|\n|  616|100435401|  11/01/21| 712668|          2| 465.2| 465.2|            0.0| 465.2|       Appliances|            cod|  44445|    received|       2021-01-11|      2021|          1|\n|  737|100431010|  02/01/21| 704564|          2| 112.0| 112.0|            0.0| 112.0|Mobiles & Tablets|            cod|  43257|   cancelled|       2021-01-02|      2021|          1|\n|  771|100437991|  18/01/21| 717504|          2|  37.5|  37.5|            0.0|  37.5|    Men's Fashion|            cod|  35698|    received|       2021-01-18|      2021|          1|\n|  772|100437991|  18/01/21| 717506|          2|  69.9|  69.9|            0.0|  69.9|    Men's Fashion|            cod|  35698|    received|       2021-01-18|      2021|          1|\n|  773|100437991|  18/01/21| 717508|          2|  29.9|  29.9|            0.0|  29.9|  Women's Fashion|            cod|  35698|    received|       2021-01-18|      2021|          1|\n|  987|100430996|  02/01/21| 704540|          2| 900.0| 900.0|            0.0| 900.0|           Others|            cod|  59587|   cancelled|       2021-01-02|      2021|          1|\n+-----+---------+----------+-------+-----------+------+------+---------------+------+-----------------+---------------+-------+------------+-----------------+----------+-----------+\nonly showing top 20 rows\n"
     ]
    }
   ],
   "source": [
    "# Add partitioning columns\n",
    "orders_landing_df = orders_df\n",
    "orders_stage_df = orders_landing_df.withColumn(\"order_date_parsed\", to_date(\"order_date\", \"dd/MM/yy\")).withColumn(\"order_year\", year(\"order_date_parsed\")).withColumn(\"order_month\", month(\"order_date_parsed\"))\n",
    "orders_stage_df.show()"
   ]
  },
  {
   "cell_type": "markdown",
   "metadata": {
    "application/vnd.databricks.v1+cell": {
     "cellMetadata": {
      "byteLimit": 2048000,
      "rowLimit": 10000
     },
     "inputWidgets": {},
     "nuid": "1591c45f-4533-4906-a983-3bf62a36196e",
     "showTitle": false,
     "tableResultSettingsMap": {},
     "title": ""
    }
   },
   "source": [
    "We now clean customers and add in staging layer\n",
    "Loading from landing"
   ]
  },
  {
   "cell_type": "code",
   "execution_count": 0,
   "metadata": {
    "application/vnd.databricks.v1+cell": {
     "cellMetadata": {
      "byteLimit": 2048000,
      "rowLimit": 10000
     },
     "inputWidgets": {},
     "nuid": "9e1627a6-1be5-493c-bbdf-2139bc046556",
     "showTitle": false,
     "tableResultSettingsMap": {},
     "title": ""
    }
   },
   "outputs": [
    {
     "output_type": "stream",
     "name": "stdout",
     "output_type": "stream",
     "text": [
      "+------------+-----------+--------------+--------------------+------+------------+---------+-----+-----+----+-------+------------------+\n|        city|     county|customer_since|              e_mail|gender|  place_name|   region|state|  zip| age|cust_id|         full_name|\n+------------+-----------+--------------+--------------------+------+------------+---------+-----+-----+----+-------+------------------+\n|      Vinson|     Harmon|     8/22/2006|jani.titus@gmail.com|     F|      Vinson|    South|   OK|73571|43.0|60124.0|       Titus, Jani|\n|      Graham|   Bradford|      2/4/1981| lee.eaker@gmail.com|     M|      Graham|    South|   FL|32042|28.0|42485.0|        Eaker, Lee|\n| Grand Forks|Grand Forks|     6/27/2010|jason.simoneau@gm...|     M| Grand Forks|  Midwest|   ND|58201|65.0|53620.0|   Simoneau, Jason|\n| Laupahoehoe|     Hawaii|      4/3/1992|grover.bayless@ya...|     M| Laupahoehoe|     West|   HI|96764|33.0|56836.0|   Bayless, Grover|\n|      Glendo|     Platte|     6/21/2015|albertina.bensen@...|     F|      Glendo|     West|   WY|82213|73.0|60125.0| Bensen, Albertina|\n|  Farmington|     Oconee|    10/19/2016|drema.galle@gmail...|     F|  Farmington|    South|   GA|30638|64.0|51286.0|      Galle, Drema|\n|   Nashville|   Davidson|     7/10/2011|sheryll.newsome@g...|     F|   Nashville|    South|   TN|37245|75.0|60126.0|  Newsome, Sheryll|\n|     Warwick|       Kent|     5/11/1995|bernard.dewald@ho...|     M|     Warwick|Northeast|   RI| 2889|52.0|60127.0|   Dewald, Bernard|\n|    Sarasota|   Sarasota|     8/25/1998|hilario.brammer@h...|     M|    Sarasota|    South|   FL|34277|31.0|60128.0|  Brammer, Hilario|\n|  Brownstown|    Fayette|     3/31/2017|elizbeth.raminez@...|     F|  Brownstown|  Midwest|   IL|62418|71.0|56449.0| Raminez, Elizbeth|\n|Mill Springs|      Wayne|      3/5/2010|robbie.dinapoli@y...|     M|Mill Springs|    South|   KY|42632|43.0|60129.0|  Dinapoli, Robbie|\n|    Brighton|     Jersey|     8/24/2016|rachell.murguia@h...|     F|    Brighton|  Midwest|   IL|62012|66.0|60130.0|  Murguia, Rachell|\n|     Phoenix|   Maricopa|     7/20/2003|lauran.mayo@gmail...|     F|     Phoenix|     West|   AZ|85015|38.0|31655.0|      Mayo, Lauran|\n|  Fort Smith|  Sebastian|     3/11/1986|abe.waymire@yahoo.ca|     M|  Fort Smith|    South|   AR|72913|71.0|60131.0|      Waymire, Abe|\n|        Drew|  Sunflower|    12/22/2005|lenny.blount@appl...|     M|        Drew|    South|   MS|38737|64.0|15106.0|     Blount, Lenny|\n|      Snyder|      Dodge|     1/24/2013|romeo.hopps@outlo...|     M|      Snyder|  Midwest|   NE|68664|38.0|37011.0|      Hopps, Romeo|\n|    Riverton| Burlington|     5/28/2010|florentino.stough...|     M|    Riverton|Northeast|   NJ| 8076|60.0|52163.0|Stough, Florentino|\n|  Huntington|     Cabell|     1/17/2003|harrison.criss@ya...|     M|  Huntington|    South|   WV|25714|75.0|60132.0|   Criss, Harrison|\n|      Benton|     Benton|     7/12/2004|micah.coutee@gmai...|     M|      Benton|    South|   AR|72019|18.0|44511.0|     Coutee, Micah|\n|    El Monte|Los Angeles|    11/10/2015|wallace.henrich@y...|     M|    El Monte|     West|   CA|91734|46.0|60133.0|  Henrich, Wallace|\n+------------+-----------+--------------+--------------------+------+------------+---------+-----+-----+----+-------+------------------+\nonly showing top 20 rows\n"
     ]
    }
   ],
   "source": [
    "\n",
    "# customers_landing_df = spark.read.format(\"delta\").load(\"/mnt/data_lake/landing/Customers_data\")\n",
    "\n",
    "# Cleaning date and email\n",
    "# customers_stage_df = customers_landing_df.withColumnRenamed(\"Customer Since\", \"customer_since\").withColumnRenamed(\"E Mail\", \"email\")\n",
    "customers_stage_df = customers_df_cleaned.withColumnRenamed(\"Customer Since\", \"customer_since\").withColumnRenamed(\"E Mail\", \"email\")\n",
    "\n",
    "# Writing to staging zone\n",
    "# customers_stage_df.write.format(\"delta\").mode(\"overwrite\").save(\"/mnt/data_lake/staging/Customers_data\")\n",
    "customers_stage_df.show()\n"
   ]
  },
  {
   "cell_type": "code",
   "execution_count": 0,
   "metadata": {
    "application/vnd.databricks.v1+cell": {
     "cellMetadata": {
      "byteLimit": 2048000,
      "rowLimit": 10000
     },
     "inputWidgets": {},
     "nuid": "1f2f22fe-ec7f-4685-b978-4c2fb978e473",
     "showTitle": false,
     "tableResultSettingsMap": {},
     "title": ""
    }
   },
   "outputs": [
    {
     "output_type": "stream",
     "name": "stdout",
     "output_type": "stream",
     "text": [
      "+-----------------+--------------------+------------+------------------+\n|        full_name|              e_mail|total_orders|       total_spent|\n+-----------------+--------------------+------------+------------------+\n|Dobbins, Everette|everette.dobbins@...|         142|1900289.9000000015|\n|     Cobb, Joleen|joleen.cobb@yahoo.ca|         110|1628440.1000000006|\n|    Bhatt, Graham|graham.bhatt@aol.com|         223| 1568177.599999999|\n| Jauregui, Bianca|bianca.jauregui@h...|         122| 1368422.600000001|\n| Beebe, Hortencia|hortencia.beebe@h...|         391|1274144.5799999996|\n| Eastep, Nicolasa|nicolasa.eastep@h...|         108|1069137.6999999997|\n|  Hover, Margorie|margorie.hover@gm...|          78| 844203.6480000002|\n|      Belz, Camie|camie.belz@hotmai...|          55|          647792.5|\n| Newland, Stanley|stanley.newland@g...|         116| 640112.3000000003|\n|    Lockard, Jona|jona.lockard@hotm...|          37|          629743.2|\n+-----------------+--------------------+------------+------------------+\nonly showing top 10 rows\n"
     ]
    }
   ],
   "source": [
    "# Performing JOIN and aggregation\n",
    "result_dataframe = orders_stage_df.alias(\"o\").join(customers_stage_df.alias(\"c\"), on=\"cust_id\", how=\"inner\").groupBy(\"c.full_name\", \"c.e_mail\").agg(count(\"o.order_id\").alias(\"total_orders\"),sum(\"o.total\").alias(\"total_spent\")).orderBy(\"total_spent\", ascending=False)\n",
    "\n",
    "# Showing results\n",
    "result_dataframe.show(10)"
   ]
  },
  {
   "cell_type": "markdown",
   "metadata": {
    "application/vnd.databricks.v1+cell": {
     "cellMetadata": {
      "byteLimit": 2048000,
      "rowLimit": 10000
     },
     "inputWidgets": {},
     "nuid": "e2ef2192-7f6d-41e8-bc30-71d9ab318e63",
     "showTitle": false,
     "tableResultSettingsMap": {},
     "title": ""
    }
   },
   "source": [
    "# **Curated Zone**"
   ]
  },
  {
   "cell_type": "markdown",
   "metadata": {
    "application/vnd.databricks.v1+cell": {
     "cellMetadata": {
      "byteLimit": 2048000,
      "rowLimit": 10000
     },
     "inputWidgets": {},
     "nuid": "dcd833c4-e30e-4e45-910c-fca27fd012e0",
     "showTitle": false,
     "tableResultSettingsMap": {},
     "title": ""
    }
   },
   "source": [
    "**1. Order Volume and Revenue by Year, Month, Category**"
   ]
  },
  {
   "cell_type": "code",
   "execution_count": 0,
   "metadata": {
    "application/vnd.databricks.v1+cell": {
     "cellMetadata": {
      "byteLimit": 2048000,
      "rowLimit": 10000
     },
     "inputWidgets": {},
     "nuid": "0014a3f1-4259-431e-b2e3-4af28ee8f2bd",
     "showTitle": false,
     "tableResultSettingsMap": {},
     "title": ""
    }
   },
   "outputs": [
    {
     "output_type": "stream",
     "name": "stdout",
     "output_type": "stream",
     "text": [
      "+----------+-----------+------------------+------------+--------------------+\n|order_year|order_month|          category|total_orders|       total_revenue|\n+----------+-----------+------------------+------------+--------------------+\n|      2021|          1|           Soghaat|         929|   65545.48744000019|\n|      2021|          1|     Entertainment|         346|   569793.6674900008|\n|      2021|          1|             Books|          64|   531.9999999999999|\n|      2021|          1|School & Education|          48|   2611.830900000001|\n|      2021|          1|        Appliances|        1920|  1113173.0244000037|\n|      2021|          1|       Kids & Baby|         684|         47951.41294|\n|      2021|          1|         Computing|         489|   458299.0507399999|\n|      2021|          1|            Others|         104|  18301.899999999998|\n|      2021|          1|     Men's Fashion|        3251|   323694.9401899932|\n|      2021|          1|     Home & Living|        1031|   88388.47635000019|\n|      2021|          1|        Superstore|         729|   95669.45870000019|\n|      2021|          1| Mobiles & Tablets|        2811|  3684139.6463099914|\n|      2021|          1| Beauty & Grooming|        2026|  234732.65920999873|\n|      2021|          1|   Health & Sports|         347|   26937.97933999997|\n|      2021|          1|   Women's Fashion|        2433|   411422.1439999966|\n|      2021|          2|   Women's Fashion|        1412|   263163.4769999977|\n|      2021|          2|        Superstore|         517|   75526.85439999997|\n|      2021|          2|     Men's Fashion|        1383|  175918.67159999712|\n|      2021|          2|     Home & Living|         624|   90985.81699999972|\n|      2021|          2|            Others|          70|             8313.54|\n|      2021|          2|School & Education|          66|   6233.809999999998|\n|      2021|          2| Mobiles & Tablets|        1879|  2168853.4489999916|\n|      2021|          2|     Entertainment|         423|  386096.56900000013|\n|      2021|          2| Beauty & Grooming|        1088|  159421.27219999937|\n|      2021|          2|        Appliances|        1035|   731731.0170000022|\n|      2021|          2|           Soghaat|         582|  50657.131999999976|\n|      2021|          2|       Kids & Baby|         355|   29835.82300000003|\n|      2021|          2|             Books|          78|  490.30000000000007|\n|      2021|          2|         Computing|         293|  217318.02000000005|\n|      2021|          2|   Health & Sports|         336|  39652.626000000106|\n|      2021|          3|     Men's Fashion|        3584|          661633.124|\n|      2021|          3| Mobiles & Tablets|        5568|1.0729648933999993E7|\n|      2021|          3|        Appliances|        2759|   4895668.916999999|\n|      2021|          3|         Computing|         615|   609894.8939999999|\n|      2021|          3|            Others|        3874|          1981774.02|\n|      2021|          3|School & Education|         148|  29128.889999999992|\n|      2021|          3|           Soghaat|         421|  62392.460000000014|\n|      2021|          3|       Kids & Baby|         801|  254175.64599999998|\n|      2021|          3| Beauty & Grooming|        1290|   342639.2659999994|\n|      2021|          3|        Superstore|        1346|  258231.28499999977|\n|      2021|          3|   Health & Sports|         699|  107018.34800000009|\n|      2021|          3|     Entertainment|        2292|  3769855.6479999945|\n|      2021|          3|     Home & Living|        1284|   440731.6764999996|\n|      2021|          3|             Books|          67|  424.67999999999995|\n|      2021|          3|   Women's Fashion|        2104|   1018298.520500001|\n|      2021|          4|     Entertainment|        2413|   4087574.958000001|\n|      2021|          4|     Home & Living|         840|   119800.3520000002|\n|      2021|          4|             Books|          46|             3456.05|\n|      2021|          4|   Women's Fashion|        2232|   708617.2253999995|\n|      2021|          4|   Health & Sports|        1007|  142003.09000000026|\n|      2021|          4| Beauty & Grooming|        1237|  169544.38900000008|\n|      2021|          4|     Men's Fashion|        3658|  473407.79099999706|\n|      2021|          4|           Soghaat|         329|  23947.965999999997|\n|      2021|          4|        Appliances|        3237|    5038811.57999999|\n|      2021|          4|        Superstore|        1366|   299981.4589999997|\n|      2021|          4|         Computing|         987|   1522382.934000001|\n|      2021|          4| Mobiles & Tablets|        6824|1.1893025463999972E7|\n|      2021|          4|       Kids & Baby|         445|   55513.28800000002|\n|      2021|          4|School & Education|         152|  23724.200000000008|\n|      2021|          4|            Others|       17365|          1.213677E7|\n|      2021|          5|     Men's Fashion|        1984|  209955.30999999787|\n|      2021|          5|School & Education|          83|             7914.52|\n|      2021|          5|   Health & Sports|        1057|   85224.08500000005|\n|      2021|          5|           Soghaat|         348|  24217.066999999985|\n|      2021|          5|            Others|        2210|            671653.0|\n|      2021|          5|        Appliances|        1016|  1450175.6870000004|\n|      2021|          5|             Books|          48|            3057.313|\n|      2021|          5|       Kids & Baby|         484|   59432.07200000013|\n|      2021|          5| Mobiles & Tablets|        2345|   5928510.732999955|\n|      2021|          5|     Entertainment|         303|  406580.61699999985|\n+----------+-----------+------------------+------------+--------------------+\nonly showing top 70 rows\n"
     ]
    }
   ],
   "source": [
    "order_summary_dataframe = orders_stage_df.groupBy(\"order_year\",\"order_month\",\"category\").agg(count(\"order_id\").alias(\"total_orders\"),sum(\"total\").alias(\"total_revenue\"))\n",
    "order_summary_dataframe.show(70)"
   ]
  },
  {
   "cell_type": "markdown",
   "metadata": {
    "application/vnd.databricks.v1+cell": {
     "cellMetadata": {
      "byteLimit": 2048000,
      "rowLimit": 10000
     },
     "inputWidgets": {},
     "nuid": "dd78b6f8-f668-48ca-8df5-72f393f6eb5a",
     "showTitle": false,
     "tableResultSettingsMap": {},
     "title": ""
    }
   },
   "source": [
    "**2. Revenue growth by categories from previous month to this month.**"
   ]
  },
  {
   "cell_type": "code",
   "execution_count": 0,
   "metadata": {
    "application/vnd.databricks.v1+cell": {
     "cellMetadata": {
      "byteLimit": 2048000,
      "rowLimit": 10000
     },
     "inputWidgets": {},
     "nuid": "77ddad24-4f90-4b0c-91f0-60e71caff347",
     "showTitle": false,
     "tableResultSettingsMap": {},
     "title": ""
    }
   },
   "outputs": [
    {
     "output_type": "stream",
     "name": "stdout",
     "output_type": "stream",
     "text": [
      "+----+-----+------------------+------------------+\n|year|month|          category|           revenue|\n+----+-----+------------------+------------------+\n|2021|    1|           Soghaat|22454.192419999985|\n|2021|    1|     Entertainment| 320118.9984899998|\n|2021|    1|             Books| 531.9999999999999|\n|2021|    1|School & Education|         1818.6309|\n|2021|    1|        Appliances| 649384.6427300004|\n|2021|    1|       Kids & Baby|       33355.19639|\n|2021|    1|         Computing|161455.79205999998|\n|2021|    1|            Others|           11084.6|\n|2021|    1|     Men's Fashion|  205433.606659998|\n|2021|    1|     Home & Living| 68069.89312000014|\n|2021|    1|        Superstore| 76275.53035000016|\n|2021|    1| Mobiles & Tablets|1313330.2120000024|\n|2021|    1| Beauty & Grooming| 164900.3058799996|\n|2021|    1|   Health & Sports|20697.696509999972|\n|2021|    1|   Women's Fashion|296177.48403999844|\n|2021|    2|   Women's Fashion|192638.64699999886|\n|2021|    2|        Superstore| 48040.85440000007|\n|2021|    2|     Men's Fashion|107328.91019999913|\n|2021|    2|     Home & Living| 48068.59600000021|\n|2021|    2|            Others|           6756.34|\n|2021|    2|School & Education|3915.0100000000016|\n|2021|    2| Mobiles & Tablets| 620715.5740000025|\n|2021|    2|     Entertainment|171940.99999999988|\n|2021|    2| Beauty & Grooming|106835.42719999971|\n|2021|    2|        Appliances|451782.41700000054|\n|2021|    2|           Soghaat|21086.392000000003|\n|2021|    2|       Kids & Baby| 21036.22800000001|\n|2021|    2|             Books|             372.4|\n|2021|    2|         Computing| 94210.25999999998|\n|2021|    2|   Health & Sports| 27544.50000000003|\n|2021|    3|     Men's Fashion| 525814.0459999999|\n|2021|    3| Mobiles & Tablets| 5349877.293999984|\n|2021|    3|        Appliances|3217852.4180000057|\n|2021|    3|         Computing|393943.00199999975|\n|2021|    3|            Others| 611389.7000000001|\n|2021|    3|School & Education|27387.789999999997|\n|2021|    3|           Soghaat|48666.560000000005|\n|2021|    3|       Kids & Baby|        227832.376|\n|2021|    3| Beauty & Grooming| 283268.7799999998|\n|2021|    3|        Superstore|203555.70499999978|\n|2021|    3|   Health & Sports| 83452.99000000005|\n|2021|    3|     Entertainment|2093716.6169999968|\n|2021|    3|     Home & Living| 386874.6759999998|\n|2021|    3|             Books|            370.88|\n|2021|    3|   Women's Fashion| 880910.4665000001|\n|2021|    4|     Entertainment|2404452.3440000024|\n|2021|    4|     Home & Living| 94413.95500000013|\n|2021|    4|             Books|2691.5299999999997|\n|2021|    4|   Women's Fashion|452853.25659999903|\n|2021|    4|   Health & Sports|105751.47999999995|\n+----+-----+------------------+------------------+\nonly showing top 50 rows\n"
     ]
    }
   ],
   "source": [
    "# Filtering for received orders only\n",
    "df_filtered = orders_stage_df.filter(col(\"final_status\") == \"received\")\n",
    "\n",
    "revenue_df = df_filtered.groupBy(\n",
    "    year(\"order_date_parsed\").alias(\"year\"),\n",
    "    month(\"order_date_parsed\").alias(\"month\"),\n",
    "    \"category\"\n",
    ").agg(sum(\"total\").alias(\"revenue\"))\n",
    "revenue_df.show(50)"
   ]
  },
  {
   "cell_type": "code",
   "execution_count": 0,
   "metadata": {
    "application/vnd.databricks.v1+cell": {
     "cellMetadata": {
      "byteLimit": 2048000,
      "rowLimit": 10000
     },
     "inputWidgets": {},
     "nuid": "7b9cbb1c-f385-4d6f-9541-71ae739bfacd",
     "showTitle": false,
     "tableResultSettingsMap": {},
     "title": ""
    }
   },
   "outputs": [
    {
     "output_type": "stream",
     "name": "stdout",
     "output_type": "stream",
     "text": [
      "+----+-----+-----------------+------------------+------------------+\n|year|month|         category|           revenue|prev_month_revenue|\n+----+-----+-----------------+------------------+------------------+\n|2021|    1|       Appliances| 649384.6427300004|              NULL|\n|2021|    2|       Appliances|451782.41700000054| 649384.6427300004|\n|2021|    3|       Appliances|3217852.4180000057|451782.41700000054|\n|2021|    4|       Appliances| 2764634.187000003|3217852.4180000057|\n|2021|    5|       Appliances| 927533.3120000008| 2764634.187000003|\n|2021|    6|       Appliances|1650724.4970000007| 927533.3120000008|\n|2021|    7|       Appliances| 633567.1510000001|1650724.4970000007|\n|2021|    8|       Appliances| 351291.2080000003| 633567.1510000001|\n|2021|    9|       Appliances| 410995.7179999999| 351291.2080000003|\n|2021|    1|Beauty & Grooming| 164900.3058799996|              NULL|\n|2021|    2|Beauty & Grooming|106835.42719999971| 164900.3058799996|\n|2021|    3|Beauty & Grooming| 283268.7799999998|106835.42719999971|\n|2021|    4|Beauty & Grooming|121689.44100000012| 283268.7799999998|\n|2021|    5|Beauty & Grooming|112734.62399999976|121689.44100000012|\n|2021|    6|Beauty & Grooming|160712.58575000011|112734.62399999976|\n|2021|    7|Beauty & Grooming| 164919.5569999998|160712.58575000011|\n|2021|    8|Beauty & Grooming|57394.205000000184| 164919.5569999998|\n|2021|    9|Beauty & Grooming| 95061.14399999999|57394.205000000184|\n|2021|    1|            Books| 531.9999999999999|              NULL|\n|2021|    2|            Books|             372.4| 531.9999999999999|\n+----+-----+-----------------+------------------+------------------+\nonly showing top 20 rows\n"
     ]
    }
   ],
   "source": [
    "\n",
    "# Defining window to get previous month's revenue per category\n",
    "window_spec = Window.partitionBy(\"category\").orderBy(\"year\", \"month\")\n",
    "\n",
    "# Add previous month's revenue column\n",
    "revenue_with_lag = revenue_df.withColumn(\n",
    "    \"prev_month_revenue\", lag(\"revenue\").over(window_spec)\n",
    ")\n",
    "revenue_with_lag.show()\n"
   ]
  },
  {
   "cell_type": "code",
   "execution_count": 0,
   "metadata": {
    "application/vnd.databricks.v1+cell": {
     "cellMetadata": {
      "byteLimit": 2048000,
      "rowLimit": 10000
     },
     "inputWidgets": {},
     "nuid": "ddd6de18-1ebc-480b-a603-685e2f8f15f9",
     "showTitle": false,
     "tableResultSettingsMap": {},
     "title": ""
    }
   },
   "outputs": [
    {
     "output_type": "stream",
     "name": "stdout",
     "output_type": "stream",
     "text": [
      "+----+-----+-----------------+------------------+------------------+-------------------+\n|year|month|         category|           revenue|prev_month_revenue|     growth_percent|\n+----+-----+-----------------+------------------+------------------+-------------------+\n|2021|    1|       Appliances| 649384.6427300004|              NULL|               NULL|\n|2021|    2|       Appliances|451782.41700000054| 649384.6427300004|-30.429149802385837|\n|2021|    3|       Appliances|3217852.4180000057|451782.41700000054|  612.2571169032464|\n|2021|    4|       Appliances| 2764634.187000003|3217852.4180000057|-14.084494008015804|\n|2021|    5|       Appliances| 927533.3120000008| 2764634.187000003| -66.45005272807907|\n|2021|    6|       Appliances|1650724.4970000007| 927533.3120000008|  77.96929508015332|\n|2021|    7|       Appliances| 633567.1510000001|1650724.4970000007| -61.61884359555852|\n|2021|    8|       Appliances| 351291.2080000003| 633567.1510000001| -44.55343724094051|\n|2021|    9|       Appliances| 410995.7179999999| 351291.2080000003| 16.995731359151907|\n|2021|    1|Beauty & Grooming| 164900.3058799996|              NULL|               NULL|\n|2021|    2|Beauty & Grooming|106835.42719999971| 164900.3058799996| -35.21211096009401|\n|2021|    3|Beauty & Grooming| 283268.7799999998|106835.42719999971| 165.14498741106786|\n|2021|    4|Beauty & Grooming|121689.44100000012| 283268.7799999998| -57.04099795254521|\n|2021|    5|Beauty & Grooming|112734.62399999976|121689.44100000012| -7.358746105177976|\n|2021|    6|Beauty & Grooming|160712.58575000011|112734.62399999976|  42.55831974921959|\n|2021|    7|Beauty & Grooming| 164919.5569999998|160712.58575000011| 2.6176986888531095|\n|2021|    8|Beauty & Grooming|57394.205000000184| 164919.5569999998| -65.19866652321879|\n|2021|    9|Beauty & Grooming| 95061.14399999999|57394.205000000184|  65.62847067922569|\n|2021|    1|            Books| 531.9999999999999|              NULL|               NULL|\n|2021|    2|            Books|             372.4| 531.9999999999999| -29.99999999999999|\n+----+-----+-----------------+------------------+------------------+-------------------+\nonly showing top 20 rows\n"
     ]
    }
   ],
   "source": [
    "# Calculating growth percentage\n",
    "revenue_growth = revenue_with_lag.withColumn(\n",
    "    \"growth_percent\",\n",
    "    when(col(\"prev_month_revenue\").isNotNull(),\n",
    "           (col(\"revenue\") - col(\"prev_month_revenue\")) / col(\"prev_month_revenue\")) * 100\n",
    "          )\n",
    "revenue_growth.show()\n"
   ]
  },
  {
   "cell_type": "code",
   "execution_count": 0,
   "metadata": {
    "application/vnd.databricks.v1+cell": {
     "cellMetadata": {
      "byteLimit": 2048000,
      "rowLimit": 10000
     },
     "inputWidgets": {},
     "nuid": "ea9ba406-d65c-479d-8978-488af594e1bf",
     "showTitle": false,
     "tableResultSettingsMap": {},
     "title": ""
    }
   },
   "outputs": [
    {
     "output_type": "stream",
     "name": "stdout",
     "output_type": "stream",
     "text": [
      "+------------------+----+-----+------------------+------------------+-------------------+\n|          category|year|month|           revenue|prev_month_revenue|     growth_percent|\n+------------------+----+-----+------------------+------------------+-------------------+\n|        Appliances|2021|    9| 410995.7179999999| 351291.2080000003| 16.995731359151907|\n| Beauty & Grooming|2021|    9| 95061.14399999999|57394.205000000184|  65.62847067922569|\n|             Books|2021|    9| 7573.000000000001|2509.4900000000002| 201.77446413414674|\n|         Computing|2021|    9|165070.58499999996| 115783.3849999999|  42.56845660541028|\n|     Entertainment|2021|    9| 559056.9510000006| 227514.9829999997| 145.72313595716085|\n|   Health & Sports|2021|    9|36616.264999999985| 41142.35500000001|-11.001047460700839|\n|     Home & Living|2021|    9|46176.569000000076| 40124.87300000013| 15.082156147883449|\n|       Kids & Baby|2021|    9|29926.780000000017|30548.654000000028| -2.035683798048877|\n|     Men's Fashion|2021|    9| 97017.73999999995|  78494.5990000001| 23.597981563036992|\n| Mobiles & Tablets|2021|    9|1285219.1780000029| 2656485.557999984| -51.61956841325276|\n|            Others|2021|    9| 806.0999999999999|            1368.2| -41.08317497441895|\n|School & Education|2021|    9| 5025.949999999999| 7139.464999999996|-29.603268592254434|\n|           Soghaat|2021|    9|         20456.054|21343.598999999995| -4.158366168704701|\n|        Superstore|2021|    9| 191410.0299999999| 78759.26499999997| 143.03176267579437|\n|   Women's Fashion|2021|    9|224389.75999999928|122409.60699999932|   83.3105795364579|\n+------------------+----+-----+------------------+------------------+-------------------+\n\n"
     ]
    }
   ],
   "source": [
    "# Getting the latest year and month\n",
    "latest_month = revenue_growth.agg(\n",
    "    max(struct(\"year\", \"month\")).alias(\"latest\")\n",
    ").collect()[0][\"latest\"]\n",
    "\n",
    "# Filtering data for the latest month\n",
    "growth_latest = revenue_growth.filter(\n",
    "    (col(\"year\") == latest_month[\"year\"]) &\n",
    "    (col(\"month\") == latest_month[\"month\"])\n",
    ")\n",
    "\n",
    "# Showing the revenue growth for latest month\n",
    "growth_latest.select(\n",
    "    \"category\", \"year\", \"month\",\n",
    "    \"revenue\", \"prev_month_revenue\", \"growth_percent\"\n",
    ").show()\n"
   ]
  },
  {
   "cell_type": "markdown",
   "metadata": {
    "application/vnd.databricks.v1+cell": {
     "cellMetadata": {
      "byteLimit": 2048000,
      "rowLimit": 10000
     },
     "inputWidgets": {},
     "nuid": "a7d30841-ebbc-49bb-bd54-cb1b48aba4e1",
     "showTitle": false,
     "tableResultSettingsMap": {},
     "title": ""
    }
   },
   "source": [
    "##### 3. Which top 5 categories have a maximum number of orders and maximum number of cancellations in the month."
   ]
  },
  {
   "cell_type": "code",
   "execution_count": 0,
   "metadata": {
    "application/vnd.databricks.v1+cell": {
     "cellMetadata": {
      "byteLimit": 2048000,
      "rowLimit": 10000
     },
     "inputWidgets": {},
     "nuid": "167bdff0-2304-4a66-a2c3-d38fa604f39b",
     "showTitle": false,
     "tableResultSettingsMap": {},
     "title": ""
    }
   },
   "outputs": [
    {
     "output_type": "stream",
     "name": "stdout",
     "output_type": "stream",
     "text": [
      "+-----+---------+----------+-------+-----------+------+------+---------------+------+-----------------+--------------+-------+------------+-----------------+----------+-----------+\n|index| order_id|order_date|item_id|qty_ordered| price| value|discount_amount| total|         category|payment_method|cust_id|final_status|order_date_parsed|order_year|order_month|\n+-----+---------+----------+-------+-----------+------+------+---------------+------+-----------------+--------------+-------+------------+-----------------+----------+-----------+\n|   99|100560796|  19/09/21| 902351|          1|  39.8|   0.0|            0.0|   0.0|    Men's Fashion|       Payaxis|  56449|   cancelled|       2021-09-19|      2021|          9|\n|  100|100560807|  19/09/21| 902371|          1|  99.9|   0.0|            0.0|   0.0|    Men's Fashion|       Payaxis|  56449|   cancelled|       2021-09-19|      2021|          9|\n|  101|100560817|  19/09/21| 902382|          1|  99.9|   0.0|            0.0|   0.0|    Men's Fashion|       Payaxis|  56449|   cancelled|       2021-09-19|      2021|          9|\n|  102|100560829|  19/09/21| 902397|          1|  99.9|   0.0|            0.0|   0.0|    Men's Fashion|       Payaxis|  56449|   cancelled|       2021-09-19|      2021|          9|\n|  103|100560841|  19/09/21| 902410|          2| 119.8| 119.8|            0.0| 119.8|    Men's Fashion|       Payaxis|  56449|   cancelled|       2021-09-19|      2021|          9|\n|  337|100556162|  11/09/21| 894708|          2|  15.0|  15.0|            0.0|  15.0|Mobiles & Tablets|           cod|   6702|    received|       2021-09-11|      2021|          9|\n|  338|100556162|  11/09/21| 894709|          2|2099.9|2099.9|            0.0|2099.9|Mobiles & Tablets|           cod|   6702|    received|       2021-09-11|      2021|          9|\n|  339|100556313|  11/09/21| 894951|          2|2099.9|2099.9|            0.0|2099.9|Mobiles & Tablets|           cod|   6702|    received|       2021-09-11|      2021|          9|\n|  340|100556313|  11/09/21| 894952|          2|  15.0|  15.0|            0.0|  15.0|Mobiles & Tablets|           cod|   6702|    received|       2021-09-11|      2021|          9|\n|  341|100559234|  16/09/21| 899950|          1|2099.9|   0.0|            0.0|   0.0|Mobiles & Tablets|   jazzvoucher|   6702|   cancelled|       2021-09-16|      2021|          9|\n|  342|100559234|  16/09/21| 899951|         11|  87.0| 870.0|            0.0| 870.0|       Appliances|   jazzvoucher|   6702|   cancelled|       2021-09-16|      2021|          9|\n|  343|100559234|  16/09/21| 899952|         11|   9.9|  99.0|            0.0|  99.0|Mobiles & Tablets|   jazzvoucher|   6702|   cancelled|       2021-09-16|      2021|          9|\n|  344|100559533|  17/09/21| 900453|          2|1149.5|1149.5|            0.0|1149.5|  Women's Fashion|           cod|   6702|   cancelled|       2021-09-17|      2021|          9|\n|  744|100554594|  03/09/21| 891899|          2|  60.0|  60.0|            0.0|  60.0|    Home & Living|   bankalfalah|  43257|   cancelled|       2021-09-03|      2021|          9|\n|  745|100554594|  03/09/21| 891900|          2|  64.9|  64.9|            0.0|  64.9|    Home & Living|   bankalfalah|  43257|   cancelled|       2021-09-03|      2021|          9|\n|  746|100555596|  08/09/21| 893777|          2| 288.0| 288.0|            0.0| 288.0|  Women's Fashion|           cod|  43257|    received|       2021-09-08|      2021|          9|\n|  747|100556002|  10/09/21| 894441|          2|  35.0|  35.0|            0.0|  35.0|Beauty & Grooming|   bankalfalah|  43257|   cancelled|       2021-09-10|      2021|          9|\n|  748|100556002|  10/09/21| 894442|          2|  69.9|  69.9|            0.0|  69.9|Beauty & Grooming|   bankalfalah|  43257|   cancelled|       2021-09-10|      2021|          9|\n|  749|100556002|  10/09/21| 894443|          2| 104.0| 104.0|            0.0| 104.0|  Women's Fashion|   bankalfalah|  43257|   cancelled|       2021-09-10|      2021|          9|\n|  750|100556003|  10/09/21| 894445|          2| 104.0| 104.0|            0.0| 104.0|  Women's Fashion|   bankalfalah|  43257|   cancelled|       2021-09-10|      2021|          9|\n+-----+---------+----------+-------+-----------+------+------+---------------+------+-----------------+--------------+-------+------------+-----------------+----------+-----------+\nonly showing top 20 rows\n"
     ]
    }
   ],
   "source": [
    "latest_month = orders_stage_df.agg(\n",
    "    max(struct(\"order_year\", \"order_month\")).alias(\"latest\")\n",
    ").collect()[0][\"latest\"]\n",
    "\n",
    "filtered_df3 = orders_stage_df.filter(\n",
    "    (col(\"order_year\") == latest_month[\"order_year\"]) &\n",
    "    (col(\"order_month\") == latest_month[\"order_month\"])\n",
    ")\n",
    "filtered_df3.show()"
   ]
  },
  {
   "cell_type": "code",
   "execution_count": 0,
   "metadata": {
    "application/vnd.databricks.v1+cell": {
     "cellMetadata": {
      "byteLimit": 2048000,
      "rowLimit": 10000
     },
     "inputWidgets": {},
     "nuid": "108e1736-b181-40fb-bfb2-40f329879b77",
     "showTitle": false,
     "tableResultSettingsMap": {},
     "title": ""
    }
   },
   "outputs": [
    {
     "output_type": "stream",
     "name": "stdout",
     "output_type": "stream",
     "text": [
      "+-----------------+------------+\n|         category|total_orders|\n+-----------------+------------+\n|Mobiles & Tablets|        2657|\n|    Men's Fashion|        1577|\n|  Women's Fashion|        1455|\n|       Superstore|        1267|\n|       Appliances|        1141|\n+-----------------+------------+\n\n"
     ]
    }
   ],
   "source": [
    "# Top 5 Orders\n",
    "\n",
    "top_orders = (\n",
    "    filtered_df3.groupBy(\"category\")\n",
    "    .agg(count(\"*\").alias(\"total_orders\"))\n",
    "    .orderBy(col(\"total_orders\").desc())\n",
    "    .limit(5)\n",
    ")\n",
    "top_orders.show()"
   ]
  },
  {
   "cell_type": "code",
   "execution_count": 0,
   "metadata": {
    "application/vnd.databricks.v1+cell": {
     "cellMetadata": {
      "byteLimit": 2048000,
      "rowLimit": 10000
     },
     "inputWidgets": {},
     "nuid": "fd76b487-5429-49df-9629-793df95e7aca",
     "showTitle": false,
     "tableResultSettingsMap": {},
     "title": ""
    }
   },
   "outputs": [
    {
     "output_type": "stream",
     "name": "stdout",
     "output_type": "stream",
     "text": [
      "+-----------------+----------------+\n|         category|cancelled_orders|\n+-----------------+----------------+\n|Mobiles & Tablets|            1600|\n|    Men's Fashion|             640|\n|  Women's Fashion|             567|\n|       Appliances|             478|\n|       Superstore|             422|\n+-----------------+----------------+\n\n"
     ]
    }
   ],
   "source": [
    "# Top 5 Cancellations\n",
    "\n",
    "top_cancellations = (\n",
    "    filtered_df3.filter(col(\"final_status\") == \"cancelled\")\n",
    "    .groupBy(\"category\")\n",
    "    .agg(count(\"*\").alias(\"cancelled_orders\"))\n",
    "    .orderBy(col(\"cancelled_orders\").desc())\n",
    "    .limit(5)\n",
    ")\n",
    "top_cancellations.show()"
   ]
  },
  {
   "cell_type": "code",
   "execution_count": 0,
   "metadata": {
    "application/vnd.databricks.v1+cell": {
     "cellMetadata": {
      "byteLimit": 2048000,
      "rowLimit": 10000
     },
     "inputWidgets": {},
     "nuid": "b5fd3189-4e6f-4c8b-836a-9e1d14df865c",
     "showTitle": false,
     "tableResultSettingsMap": {},
     "title": ""
    }
   },
   "outputs": [
    {
     "output_type": "stream",
     "name": "stdout",
     "output_type": "stream",
     "text": [
      "+------------------+------------+----------------+\n|          category|total_orders|cancelled_orders|\n+------------------+------------+----------------+\n| Mobiles & Tablets|        2657|            1600|\n|     Men's Fashion|        1577|             640|\n|   Women's Fashion|        1455|             567|\n|        Superstore|        1267|             422|\n|        Appliances|        1141|             478|\n|     Entertainment|        1115|             401|\n| Beauty & Grooming|        1005|             399|\n|     Home & Living|         628|             242|\n|   Health & Sports|         498|              72|\n|         Computing|         403|             172|\n|       Kids & Baby|         271|             104|\n|           Soghaat|         271|              96|\n|School & Education|          90|              41|\n|            Others|          68|              40|\n|             Books|          37|              12|\n+------------------+------------+----------------+\n\n"
     ]
    }
   ],
   "source": [
    "# Combined result\n",
    "\n",
    "from pyspark.sql.functions import coalesce, lit\n",
    "\n",
    "orders = (\n",
    "    filtered_df3.groupBy(\"category\")\n",
    "    .agg(count(\"*\").alias(\"total_orders\"))\n",
    ")\n",
    "\n",
    "cancellations = (\n",
    "    filtered_df3.filter(col(\"final_status\") == \"cancelled\")\n",
    "    .groupBy(\"category\")\n",
    "    .agg(count(\"*\").alias(\"cancelled_orders\"))\n",
    ")\n",
    "\n",
    "combined = (\n",
    "    orders.join(cancellations, on=\"category\", how=\"outer\")\n",
    "    .fillna(0)\n",
    "    .orderBy(col(\"total_orders\").desc())\n",
    ")\n",
    "combined.show()\n"
   ]
  },
  {
   "cell_type": "markdown",
   "metadata": {
    "application/vnd.databricks.v1+cell": {
     "cellMetadata": {
      "byteLimit": 2048000,
      "rowLimit": 10000
     },
     "inputWidgets": {},
     "nuid": "b31adaef-7a07-4b33-a829-3e598bf1eb39",
     "showTitle": false,
     "tableResultSettingsMap": {},
     "title": ""
    }
   },
   "source": [
    "##### 4 . Segment customers by age: 0-20 as young, 20-35 adults, 35-55 middle-ages and >55 Old. Find the total spend (in percentage of total spend of categories)"
   ]
  },
  {
   "cell_type": "code",
   "execution_count": 0,
   "metadata": {
    "application/vnd.databricks.v1+cell": {
     "cellMetadata": {
      "byteLimit": 2048000,
      "rowLimit": 10000
     },
     "inputWidgets": {},
     "nuid": "850a82fd-1952-4daf-9f20-5bbfdecff8f0",
     "showTitle": false,
     "tableResultSettingsMap": {},
     "title": ""
    }
   },
   "outputs": [
    {
     "output_type": "stream",
     "name": "stdout",
     "output_type": "stream",
     "text": [
      "+------------+-----------+--------------+--------------------+------+------------+---------+-----+-----+----+-------+------------------+----------+\n|        city|     county|customer_since|              e_mail|gender|  place_name|   region|state|  zip| age|cust_id|         full_name| age_group|\n+------------+-----------+--------------+--------------------+------+------------+---------+-----+-----+----+-------+------------------+----------+\n|      Vinson|     Harmon|     8/22/2006|jani.titus@gmail.com|     F|      Vinson|    South|   OK|73571|43.0|60124.0|       Titus, Jani|Middle-Age|\n|      Graham|   Bradford|      2/4/1981| lee.eaker@gmail.com|     M|      Graham|    South|   FL|32042|28.0|42485.0|        Eaker, Lee|    Adults|\n| Grand Forks|Grand Forks|     6/27/2010|jason.simoneau@gm...|     M| Grand Forks|  Midwest|   ND|58201|65.0|53620.0|   Simoneau, Jason|       Old|\n| Laupahoehoe|     Hawaii|      4/3/1992|grover.bayless@ya...|     M| Laupahoehoe|     West|   HI|96764|33.0|56836.0|   Bayless, Grover|    Adults|\n|      Glendo|     Platte|     6/21/2015|albertina.bensen@...|     F|      Glendo|     West|   WY|82213|73.0|60125.0| Bensen, Albertina|       Old|\n|  Farmington|     Oconee|    10/19/2016|drema.galle@gmail...|     F|  Farmington|    South|   GA|30638|64.0|51286.0|      Galle, Drema|       Old|\n|   Nashville|   Davidson|     7/10/2011|sheryll.newsome@g...|     F|   Nashville|    South|   TN|37245|75.0|60126.0|  Newsome, Sheryll|       Old|\n|     Warwick|       Kent|     5/11/1995|bernard.dewald@ho...|     M|     Warwick|Northeast|   RI| 2889|52.0|60127.0|   Dewald, Bernard|Middle-Age|\n|    Sarasota|   Sarasota|     8/25/1998|hilario.brammer@h...|     M|    Sarasota|    South|   FL|34277|31.0|60128.0|  Brammer, Hilario|    Adults|\n|  Brownstown|    Fayette|     3/31/2017|elizbeth.raminez@...|     F|  Brownstown|  Midwest|   IL|62418|71.0|56449.0| Raminez, Elizbeth|       Old|\n|Mill Springs|      Wayne|      3/5/2010|robbie.dinapoli@y...|     M|Mill Springs|    South|   KY|42632|43.0|60129.0|  Dinapoli, Robbie|Middle-Age|\n|    Brighton|     Jersey|     8/24/2016|rachell.murguia@h...|     F|    Brighton|  Midwest|   IL|62012|66.0|60130.0|  Murguia, Rachell|       Old|\n|     Phoenix|   Maricopa|     7/20/2003|lauran.mayo@gmail...|     F|     Phoenix|     West|   AZ|85015|38.0|31655.0|      Mayo, Lauran|Middle-Age|\n|  Fort Smith|  Sebastian|     3/11/1986|abe.waymire@yahoo.ca|     M|  Fort Smith|    South|   AR|72913|71.0|60131.0|      Waymire, Abe|       Old|\n|        Drew|  Sunflower|    12/22/2005|lenny.blount@appl...|     M|        Drew|    South|   MS|38737|64.0|15106.0|     Blount, Lenny|       Old|\n|      Snyder|      Dodge|     1/24/2013|romeo.hopps@outlo...|     M|      Snyder|  Midwest|   NE|68664|38.0|37011.0|      Hopps, Romeo|Middle-Age|\n|    Riverton| Burlington|     5/28/2010|florentino.stough...|     M|    Riverton|Northeast|   NJ| 8076|60.0|52163.0|Stough, Florentino|       Old|\n|  Huntington|     Cabell|     1/17/2003|harrison.criss@ya...|     M|  Huntington|    South|   WV|25714|75.0|60132.0|   Criss, Harrison|       Old|\n|      Benton|     Benton|     7/12/2004|micah.coutee@gmai...|     M|      Benton|    South|   AR|72019|18.0|44511.0|     Coutee, Micah|     Young|\n|    El Monte|Los Angeles|    11/10/2015|wallace.henrich@y...|     M|    El Monte|     West|   CA|91734|46.0|60133.0|  Henrich, Wallace|Middle-Age|\n+------------+-----------+--------------+--------------------+------+------------+---------+-----+-----+----+-------+------------------+----------+\nonly showing top 20 rows\n"
     ]
    }
   ],
   "source": [
    "customers_segmented = customers_stage_df.withColumn(\n",
    "    \"age_group\",\n",
    "    when(col(\"age\") <= 20, \"Young\")\n",
    "    .when((col(\"age\") > 20) & (col(\"age\") <= 35), \"Adults\")\n",
    "    .when((col(\"age\") > 35) & (col(\"age\") <= 55), \"Middle-Age\")\n",
    "    .otherwise(\"Old\"))\n",
    "\n",
    "customers_segmented.show()"
   ]
  },
  {
   "cell_type": "code",
   "execution_count": 0,
   "metadata": {
    "application/vnd.databricks.v1+cell": {
     "cellMetadata": {
      "byteLimit": 2048000,
      "rowLimit": 10000
     },
     "inputWidgets": {},
     "nuid": "fdb01a52-5a77-47c4-b201-d6dfb3bb256c",
     "showTitle": false,
     "tableResultSettingsMap": {},
     "title": ""
    }
   },
   "outputs": [
    {
     "output_type": "stream",
     "name": "stdout",
     "output_type": "stream",
     "text": [
      "+-------+------------+-----------+--------------+--------------------+------+------------+---------+-----+-----+----+------------------+----------+-------------+-----+\n|cust_id|        city|     county|customer_since|              e_mail|gender|  place_name|   region|state|  zip| age|         full_name| age_group|     category|total|\n+-------+------------+-----------+--------------+--------------------+------+------------+---------+-----+-----+----+------------------+----------+-------------+-----+\n|60124.0|      Vinson|     Harmon|     8/22/2006|jani.titus@gmail.com|     F|      Vinson|    South|   OK|73571|43.0|       Titus, Jani|Middle-Age|         NULL| NULL|\n|42485.0|      Graham|   Bradford|      2/4/1981| lee.eaker@gmail.com|     M|      Graham|    South|   FL|32042|28.0|        Eaker, Lee|    Adults|         NULL| NULL|\n|53620.0| Grand Forks|Grand Forks|     6/27/2010|jason.simoneau@gm...|     M| Grand Forks|  Midwest|   ND|58201|65.0|   Simoneau, Jason|       Old|         NULL| NULL|\n|56836.0| Laupahoehoe|     Hawaii|      4/3/1992|grover.bayless@ya...|     M| Laupahoehoe|     West|   HI|96764|33.0|   Bayless, Grover|    Adults|         NULL| NULL|\n|60125.0|      Glendo|     Platte|     6/21/2015|albertina.bensen@...|     F|      Glendo|     West|   WY|82213|73.0| Bensen, Albertina|       Old|         NULL| NULL|\n|51286.0|  Farmington|     Oconee|    10/19/2016|drema.galle@gmail...|     F|  Farmington|    South|   GA|30638|64.0|      Galle, Drema|       Old|         NULL| NULL|\n|60126.0|   Nashville|   Davidson|     7/10/2011|sheryll.newsome@g...|     F|   Nashville|    South|   TN|37245|75.0|  Newsome, Sheryll|       Old|         NULL| NULL|\n|60127.0|     Warwick|       Kent|     5/11/1995|bernard.dewald@ho...|     M|     Warwick|Northeast|   RI| 2889|52.0|   Dewald, Bernard|Middle-Age|         NULL| NULL|\n|60128.0|    Sarasota|   Sarasota|     8/25/1998|hilario.brammer@h...|     M|    Sarasota|    South|   FL|34277|31.0|  Brammer, Hilario|    Adults|         NULL| NULL|\n|56449.0|  Brownstown|    Fayette|     3/31/2017|elizbeth.raminez@...|     F|  Brownstown|  Midwest|   IL|62418|71.0| Raminez, Elizbeth|       Old|Men's Fashion|  0.0|\n|60129.0|Mill Springs|      Wayne|      3/5/2010|robbie.dinapoli@y...|     M|Mill Springs|    South|   KY|42632|43.0|  Dinapoli, Robbie|Middle-Age|         NULL| NULL|\n|60130.0|    Brighton|     Jersey|     8/24/2016|rachell.murguia@h...|     F|    Brighton|  Midwest|   IL|62012|66.0|  Murguia, Rachell|       Old|         NULL| NULL|\n|31655.0|     Phoenix|   Maricopa|     7/20/2003|lauran.mayo@gmail...|     F|     Phoenix|     West|   AZ|85015|38.0|      Mayo, Lauran|Middle-Age|Men's Fashion| 24.9|\n|60131.0|  Fort Smith|  Sebastian|     3/11/1986|abe.waymire@yahoo.ca|     M|  Fort Smith|    South|   AR|72913|71.0|      Waymire, Abe|       Old|         NULL| NULL|\n|15106.0|        Drew|  Sunflower|    12/22/2005|lenny.blount@appl...|     M|        Drew|    South|   MS|38737|64.0|     Blount, Lenny|       Old|   Appliances|350.0|\n|37011.0|      Snyder|      Dodge|     1/24/2013|romeo.hopps@outlo...|     M|      Snyder|  Midwest|   NE|68664|38.0|      Hopps, Romeo|Middle-Age|      Soghaat| 23.0|\n|52163.0|    Riverton| Burlington|     5/28/2010|florentino.stough...|     M|    Riverton|Northeast|   NJ| 8076|60.0|Stough, Florentino|       Old|         NULL| NULL|\n|60132.0|  Huntington|     Cabell|     1/17/2003|harrison.criss@ya...|     M|  Huntington|    South|   WV|25714|75.0|   Criss, Harrison|       Old|         NULL| NULL|\n|44511.0|      Benton|     Benton|     7/12/2004|micah.coutee@gmai...|     M|      Benton|    South|   AR|72019|18.0|     Coutee, Micah|     Young|         NULL| NULL|\n|60133.0|    El Monte|Los Angeles|    11/10/2015|wallace.henrich@y...|     M|    El Monte|     West|   CA|91734|46.0|  Henrich, Wallace|Middle-Age|         NULL| NULL|\n+-------+------------+-----------+--------------+--------------------+------+------------+---------+-----+-----+----+------------------+----------+-------------+-----+\nonly showing top 20 rows\n"
     ]
    }
   ],
   "source": [
    "orders_cat_distinct = orders_stage_df.select(\"cust_id\", \"category\", \"total\").distinct()\n",
    "customers_expanded = customers_segmented.join(\n",
    "    orders_cat_distinct,\n",
    "    on=\"cust_id\",\n",
    "    how=\"left\"\n",
    ")\n",
    "customers_expanded.show()"
   ]
  },
  {
   "cell_type": "code",
   "execution_count": 0,
   "metadata": {
    "application/vnd.databricks.v1+cell": {
     "cellMetadata": {
      "byteLimit": 2048000,
      "rowLimit": 10000
     },
     "inputWidgets": {},
     "nuid": "360b6054-7520-452e-9f5c-edc57f2d4183",
     "showTitle": false,
     "tableResultSettingsMap": {},
     "title": ""
    }
   },
   "outputs": [
    {
     "output_type": "stream",
     "name": "stdout",
     "output_type": "stream",
     "text": [
      "+------------------+-------------------+------------------+------------------+------------------+------------------+\n|category          |total_spend        |young_%           |adult_%           |middle_age_%      |old_%             |\n+------------------+-------------------+------------------+------------------+------------------+------------------+\n|Beauty & Grooming |1493994.266150011  |4.166118118404502 |32.322340282764664|29.499086921244416|34.012454677585545|\n|NULL              |NULL               |NULL              |NULL              |NULL              |NULL              |\n|Kids & Baby       |562641.0019399968  |8.111621947677968 |23.881219212020678|30.24297987762842 |37.764178962673604|\n|Mobiles & Tablets |4.655680133281097E7|5.1183358989068415|23.514845435771978|35.38705327032224 |35.97976539499635 |\n|Health & Sports   |479849.89731999836 |3.6788754355463906|20.2341432919493  |35.408906607870364|40.67807466463434 |\n|Women's Fashion   |3403185.8942900235 |5.673380510125785 |25.674761968366756|35.307547059537754|33.344310461968945|\n|Appliances        |1.384788947139992E7|4.044298282107698 |27.016464623773434|34.49115790658567 |34.44807918753378 |\n|Home & Living     |1051365.7278500015 |4.743169163596196 |25.397291677563206|36.18926222828925 |33.67027693055106 |\n|Men's Fashion     |2199664.328520095  |5.806050716198327 |25.49195721000087 |34.76333973986191 |33.9386523339337  |\n|Superstore        |1433567.5884900019 |4.909262427879649 |24.78561560632536 |36.34314042414844 |33.9619815416464  |\n|Books             |21923.427999999993 |5.222267247622043 |20.134944224963363|29.380236521405333|45.2625520060093  |\n|School & Education|74263.84340000001  |5.250199587704074 |37.45019612060638 |27.83206342913299 |29.467540862556536|\n|Soghaat           |271114.7049200001  |6.875491237371424 |27.3867015446135  |32.48885926567171 |33.248947952343315|\n|Entertainment     |8896759.36948996   |3.9890358417139664|24.794058795887846|37.70329917546493 |33.51360618693387 |\n|Others            |8590401.525000002  |4.662478218676744 |26.12649930819153 |32.961583597223054|36.24943887590864 |\n|Computing         |4107670.404739993  |3.8019746866687907|27.992901654259743|38.439397504677494|29.765726154394144|\n+------------------+-------------------+------------------+------------------+------------------+------------------+\n\n"
     ]
    }
   ],
   "source": [
    "from pyspark.sql import functions as F\n",
    "\n",
    "# Step 1: Total spend per category\n",
    "total_spend_per_cat = (\n",
    "    customers_expanded\n",
    "    .groupBy(\"category\")\n",
    "    .agg(F.sum(\"total\").alias(\"total_spend\"))\n",
    ")\n",
    "\n",
    "# Step 2: Spend per age group per category\n",
    "spend_by_age_cat = (\n",
    "    customers_expanded\n",
    "    .groupBy(\"category\", \"age_group\")\n",
    "    .agg(F.sum(\"total\").alias(\"age_group_spend\"))\n",
    ")\n",
    "\n",
    "# Step 3: Pivot age group into columns\n",
    "spend_pivot = (\n",
    "    spend_by_age_cat\n",
    "    .groupBy(\"category\")\n",
    "    .pivot(\"age_group\", [\"Young\", \"Adults\", \"Middle-Age\", \"Old\"])\n",
    "    .sum(\"age_group_spend\")\n",
    ")\n",
    "\n",
    "# Step 4: Join with total spend\n",
    "result = (\n",
    "    total_spend_per_cat\n",
    "    .join(spend_pivot, on=\"category\", how=\"left\")\n",
    ")\n",
    "\n",
    "# Step 5: Add percentage columns\n",
    "result_pct = (\n",
    "    result\n",
    "    .withColumn(\"young_%\",       (F.col(\"Young\") / F.col(\"total_spend\") * 100).cast(\"double\"))\n",
    "    .withColumn(\"adult_%\",       (F.col(\"Adults\") / F.col(\"total_spend\") * 100).cast(\"double\"))\n",
    "    .withColumn(\"middle_age_%\",  (F.col(\"Middle-Age\") / F.col(\"total_spend\") * 100).cast(\"double\"))\n",
    "    .withColumn(\"old_%\",         (F.col(\"Old\") / F.col(\"total_spend\") * 100).cast(\"double\"))\n",
    ")\n",
    "\n",
    "# Step 6: Select & order columns\n",
    "final_df = result_pct.select(\n",
    "    \"category\", \"total_spend\",\n",
    "    \"young_%\", \"adult_%\", \"middle_age_%\", \"old_%\"\n",
    ")\n",
    "\n",
    "final_df.show(truncate=False)\n"
   ]
  },
  {
   "cell_type": "code",
   "execution_count": 0,
   "metadata": {
    "application/vnd.databricks.v1+cell": {
     "cellMetadata": {
      "byteLimit": 2048000,
      "rowLimit": 10000
     },
     "inputWidgets": {},
     "nuid": "16c9d0c9-ea40-4ae1-b975-a3e5912620ef",
     "showTitle": false,
     "tableResultSettingsMap": {},
     "title": ""
    }
   },
   "outputs": [
    {
     "output_type": "execute_result",
     "data": {
      "text/plain": [
       "[Row(year=2021, month=1, category='Soghaat', revenue=22454.192419999985),\n",
       " Row(year=2021, month=1, category='Entertainment', revenue=320118.9984899998),\n",
       " Row(year=2021, month=1, category='Books', revenue=531.9999999999999),\n",
       " Row(year=2021, month=1, category='School & Education', revenue=1818.6309),\n",
       " Row(year=2021, month=1, category='Appliances', revenue=649384.6427300004),\n",
       " Row(year=2021, month=1, category='Kids & Baby', revenue=33355.19639),\n",
       " Row(year=2021, month=1, category='Computing', revenue=161455.79205999998),\n",
       " Row(year=2021, month=1, category='Others', revenue=11084.6),\n",
       " Row(year=2021, month=1, category=\"Men's Fashion\", revenue=205433.606659998),\n",
       " Row(year=2021, month=1, category='Home & Living', revenue=68069.89312000014)]"
      ]
     },
     "execution_count": 73,
     "metadata": {},
     "output_type": "execute_result"
    }
   ],
   "source": [
    "revenue_df.head(10)"
   ]
  },
  {
   "cell_type": "code",
   "execution_count": 0,
   "metadata": {
    "application/vnd.databricks.v1+cell": {
     "cellMetadata": {
      "byteLimit": 2048000,
      "rowLimit": 10000
     },
     "inputWidgets": {},
     "nuid": "0fc00e7e-9c43-4cc1-9f06-b04e2f0a7635",
     "showTitle": false,
     "tableResultSettingsMap": {},
     "title": ""
    }
   },
   "outputs": [
    {
     "output_type": "stream",
     "name": "stdout",
     "output_type": "stream",
     "text": [
      "+-----------------+----+-----+------------------+------------------+------------------+------------------+\n|         category|year|month|           revenue|          forecast|         abs_error|         pct_error|\n+-----------------+----+-----+------------------+------------------+------------------+------------------+\n|       Appliances|2021|    1| 649384.6427300004|              NULL|              NULL|              NULL|\n|       Appliances|2021|    2|451782.41700000054| 649384.6427300004| 197602.2257299999| 43.73836127624233|\n|       Appliances|2021|    3|3217852.4180000057| 649384.6427300004| 2568467.775270005| 79.81931554419724|\n|       Appliances|2021|    4| 2764634.187000003| 530823.3072920005| 2233810.879708003| 80.79951012007072|\n|       Appliances|2021|    5| 927533.3120000008|2143040.7737168036|1215507.4617168028|131.04731075327695|\n|       Appliances|2021|    6|1650724.4970000007|2515996.8216867233| 865272.3246867226|  52.4177308969034|\n|       Appliances|2021|    7| 633567.1510000001|1562918.7158746896| 929351.5648746896|146.68556654299925|\n|       Appliances|2021|    8| 351291.2080000003|1615602.1845498763| 1264310.976549876| 359.9039622277922|\n|       Appliances|2021|    9| 410995.7179999999|1026381.1644199505| 615385.4464199506|  149.730379044959|\n|Beauty & Grooming|2021|    1| 164900.3058799996|              NULL|              NULL|              NULL|\n|Beauty & Grooming|2021|    2|106835.42719999971| 164900.3058799996| 58064.87867999988| 54.34983525764385|\n|Beauty & Grooming|2021|    3| 283268.7799999998| 164900.3058799996| 118368.4741200002| 41.78662898184554|\n|Beauty & Grooming|2021|    4|121689.44100000012|130061.37867199967| 8371.937671999549| 6.879756865675421|\n|Beauty & Grooming|2021|    5|112734.62399999976|221985.81946879975|109251.19546879998|  96.9100632905825|\n|Beauty & Grooming|2021|    6|160712.58575000011|161807.99238751997|  1095.40663751986|0.6815935618283456|\n|Beauty & Grooming|2021|    7| 164919.5569999998|132363.97135500784|32555.585644991952| 19.74028201215214|\n|Beauty & Grooming|2021|    8|57394.205000000184| 149373.1399920032| 91978.93499200302|160.25822640456946|\n|Beauty & Grooming|2021|    9| 95061.14399999999|158700.99019680117| 63639.84619680118| 66.94622378708297|\n|            Books|2021|    1| 531.9999999999999|              NULL|              NULL|              NULL|\n|            Books|2021|    2|             372.4| 531.9999999999999| 159.5999999999999| 42.85714285714284|\n+-----------------+----+-----+------------------+------------------+------------------+------------------+\nonly showing top 20 rows\n"
     ]
    }
   ],
   "source": [
    "from pyspark.sql.functions import pandas_udf\n",
    "from pyspark.sql.types import *\n",
    "from pyspark.sql.functions import col\n",
    "from pyspark.sql.functions import pandas_udf\n",
    "from pyspark.sql.functions import PandasUDFType  # optional in older versions\n",
    "\n",
    "from pyspark.sql.functions import pandas_udf\n",
    "from pyspark.sql.functions import PandasUDFType\n",
    "from pyspark.sql.types import StructType, StructField, StringType, IntegerType, DoubleType\n",
    "import pandas as pd\n",
    "from statsmodels.tsa.api import SimpleExpSmoothing\n",
    "from statsmodels.tsa.holtwinters import SimpleExpSmoothing\n",
    "import mlflow\n",
    "import mlflow.pyfunc\n",
    "from mlflow.models.signature import infer_signature\n",
    "\n",
    "alpha = 0.6\n",
    "\n",
    "# Output schema\n",
    "schema = StructType([\n",
    "    StructField(\"category\", StringType()),\n",
    "    StructField(\"year\", IntegerType()),\n",
    "    StructField(\"month\", IntegerType()),\n",
    "    StructField(\"revenue\", DoubleType()),\n",
    "    StructField(\"forecast\", DoubleType()),\n",
    "    StructField(\"abs_error\", DoubleType()),\n",
    "    StructField(\"pct_error\", DoubleType())\n",
    "])\n",
    "mlflow.set_tracking_uri(\"databricks\")      # or \"http://127.0.0.1:5000\" if local MLflow\n",
    "mlflow.set_registry_uri(\"databricks-uc\")      # or \"databricks-uc\" if Unity Catalog is enabled\n",
    "\n",
    "def forecast_ses(pdf: pd.DataFrame) -> pd.DataFrame:\n",
    "    pdf = pdf.sort_values(by=[\"year\", \"month\"])\n",
    "    \n",
    "    pdf[\"year\"] = pdf[\"year\"].astype(float) # Cast to float for compatibility with MLflow signature\n",
    "    pdf[\"month\"] = pdf[\"month\"].astype(float)\n",
    "\n",
    "    if len(pdf) < 9:\n",
    "        pdf[\"forecast\"] = None\n",
    "        pdf[\"abs_error\"] = None\n",
    "        pdf[\"pct_error\"] = None\n",
    "        return pdf\n",
    "\n",
    "    ses_model = SimpleExpSmoothing(pdf[\"revenue\"]).fit(\n",
    "        smoothing_level=alpha, optimized=False\n",
    "    )\n",
    "    forecast = ses_model.fittedvalues\n",
    "\n",
    "    pdf[\"forecast\"] = forecast.shift(1)\n",
    "    pdf[\"abs_error\"] = (pdf[\"revenue\"] - pdf[\"forecast\"]).abs()\n",
    "    pdf[\"pct_error\"] = pdf[\"abs_error\"] / pdf[\"revenue\"] * 100\n",
    "\n",
    "    return pdf\n",
    "\n",
    "\n",
    "# Apply grouped forecasting\n",
    "forecast_result = (\n",
    "    revenue_df.groupBy(\"category\")\n",
    "    .applyInPandas(forecast_ses, schema=schema)\n",
    ")\n",
    "\n",
    "forecast_result.show()\n"
   ]
  },
  {
   "cell_type": "code",
   "execution_count": 0,
   "metadata": {
    "application/vnd.databricks.v1+cell": {
     "cellMetadata": {
      "byteLimit": 2048000,
      "rowLimit": 10000
     },
     "inputWidgets": {},
     "nuid": "4d55d683-f3f3-420f-bf85-c2e08331bbb6",
     "showTitle": false,
     "tableResultSettingsMap": {},
     "title": ""
    }
   },
   "outputs": [
    {
     "output_type": "stream",
     "name": "stdout",
     "output_type": "stream",
     "text": [
      "Cleaned input_example ready for MLflow logging\n"
     ]
    }
   ],
   "source": [
    "input_example = revenue_df.limit(5).toPandas()\n",
    "\n",
    "# Ensure serializable dtypes\n",
    "input_example[\"year\"] = input_example[\"year\"].astype(float)\n",
    "input_example[\"month\"] = input_example[\"month\"].astype(float)\n",
    "input_example[\"revenue\"] = input_example[\"revenue\"].astype(float)\n",
    "\n",
    "# Handle NaNs and objects\n",
    "input_example = input_example.fillna(0)\n",
    "for col in input_example.select_dtypes(include=[\"object\"]).columns:\n",
    "    input_example[col] = input_example[col].astype(str)\n",
    "\n",
    "# Infer signature using cleaned input\n",
    "signature = infer_signature(\n",
    "    input_example,\n",
    "    forecast_ses(input_example)\n",
    ")\n",
    "\n",
    "print(\"Cleaned input_example ready for MLflow logging\")"
   ]
  },
  {
   "cell_type": "code",
   "execution_count": 0,
   "metadata": {
    "application/vnd.databricks.v1+cell": {
     "cellMetadata": {
      "byteLimit": 2048000,
      "rowLimit": 10000
     },
     "inputWidgets": {},
     "nuid": "9c50b896-3635-473f-85ca-827119d9fb99",
     "showTitle": false,
     "tableResultSettingsMap": {},
     "title": ""
    }
   },
   "outputs": [
    {
     "output_type": "stream",
     "name": "stdout",
     "output_type": "stream",
     "text": [
      "Run ID: 089aa2c327044933adcc643cbed1c460\nModel path (DBFS): runs:/089aa2c327044933adcc643cbed1c460/SES_model_updated\n"
     ]
    }
   ],
   "source": [
    "\n",
    "import mlflow\n",
    "from mlflow.models.signature import infer_signature\n",
    "\n",
    "# Ensure any active run is ended\n",
    "if mlflow.active_run():\n",
    "    mlflow.end_run()\n",
    "\n",
    "signature = infer_signature(input_example, forecast_ses(input_example))\n",
    "\n",
    "class SESForecastModel(mlflow.pyfunc.PythonModel):\n",
    "    def __init__(self, alpha=0.6):\n",
    "        self.alpha = alpha\n",
    "\n",
    "    def predict(self, context, model_input: pd.DataFrame) -> pd.DataFrame:\n",
    "        return forecast_ses(model_input)\n",
    "    \n",
    "with mlflow.start_run() as run:\n",
    "    # ✅ Save model to DBFS (no S3 / UC involved)\n",
    "    model_info = mlflow.pyfunc.log_model(\n",
    "        artifact_path=\"SES_model_updated\",\n",
    "        python_model=SESForecastModel(alpha=0.6),\n",
    "        input_example=input_example.head(1),\n",
    "        signature=signature\n",
    "    )\n",
    "\n",
    "run_id = run.info.run_id\n",
    "print(\"Run ID:\", run_id)\n",
    "print(\"Model path (DBFS):\", model_info.model_uri)"
   ]
  },
  {
   "cell_type": "code",
   "execution_count": 0,
   "metadata": {
    "application/vnd.databricks.v1+cell": {
     "cellMetadata": {
      "byteLimit": 2048000,
      "rowLimit": 10000
     },
     "inputWidgets": {},
     "nuid": "dbd6cf9a-4219-416c-913a-d998d222780f",
     "showTitle": false,
     "tableResultSettingsMap": {},
     "title": ""
    }
   },
   "outputs": [
    {
     "output_type": "stream",
     "name": "stdout",
     "output_type": "stream",
     "text": [
      "     year  month            category       revenue forecast abs_error pct_error\n0  2021.0    1.0             Soghaat   22454.19242     None      None      None\n1  2021.0    1.0       Entertainment  320118.99849     None      None      None\n2  2021.0    1.0               Books     532.00000     None      None      None\n3  2021.0    1.0  School & Education    1818.63090     None      None      None\n4  2021.0    1.0          Appliances  649384.64273     None      None      None\n"
     ]
    }
   ],
   "source": [
    "# Load model from DBFS path\n",
    "loaded_model = mlflow.pyfunc.load_model(model_info.model_uri)\n",
    "\n",
    "# Run predictions\n",
    "predictions = loaded_model.predict(input_example)\n",
    "print(predictions)\n"
   ]
  },
  {
   "cell_type": "markdown",
   "metadata": {
    "application/vnd.databricks.v1+cell": {
     "cellMetadata": {
      "byteLimit": 2048000,
      "rowLimit": 10000
     },
     "inputWidgets": {},
     "nuid": "c5280e0c-ac7b-40b5-9579-4dd005940fab",
     "showTitle": false,
     "tableResultSettingsMap": {},
     "title": ""
    }
   },
   "source": [
    "Register model in model registry. \n",
    "registered_model_name and mlflow.register_model() must be removed → they force Unity Catalog.\n",
    "Databricks free workspace does not have Unity Catalog (UC) or S3 permissions.\n",
    "\n",
    "When we call mlflow.register_model, MLflow tries to push artifacts to S3-backed UC storage, which we don’t have access to → hence the AccessDenied (s3:PutObject) errors.\n",
    "\n",
    "That means:\n",
    "✅ We can log models locally (DBFS).\n",
    "❌ We cannot register them into Unity Catalog in free edition."
   ]
  },
  {
   "cell_type": "code",
   "execution_count": 0,
   "metadata": {
    "application/vnd.databricks.v1+cell": {
     "cellMetadata": {
      "byteLimit": 2048000,
      "rowLimit": 10000
     },
     "inputWidgets": {},
     "nuid": "82edced2-36f6-45ea-88ac-b6702360f73a",
     "showTitle": false,
     "tableResultSettingsMap": {},
     "title": ""
    }
   },
   "outputs": [
    {
     "output_type": "stream",
     "name": "stdout",
     "output_type": "stream",
     "text": [
      "Model URI: runs:/089aa2c327044933adcc643cbed1c460/SES_model_updated\n"
     ]
    }
   ],
   "source": [
    "%python\n",
    "print(\"Model URI:\", model_info.model_uri)"
   ]
  },
  {
   "cell_type": "markdown",
   "metadata": {
    "application/vnd.databricks.v1+cell": {
     "cellMetadata": {
      "byteLimit": 2048000,
      "rowLimit": 10000
     },
     "inputWidgets": {},
     "nuid": "2c362aac-0647-4b02-be10-6e6ebd502fe7",
     "showTitle": false,
     "tableResultSettingsMap": {},
     "title": ""
    }
   },
   "source": [
    "Databricks Free Edition you can register models into the Workspace Model Registry (what you already did — your ses_forecasting_model with versions 1 and 2 is proof ✅).\n",
    "\n",
    "What you cannot do in Free Edition:\n",
    "\n",
    "Deploy models to a serving endpoint (real-time REST API).\n",
    "\n",
    "Use Model Monitoring & advanced governance features.\n",
    "\n",
    "Unity Catalog–backed registry (only Pro/Premium).\n",
    "\n",
    "So in Free:\n",
    "\n",
    "✅ You can train and log models with MLflow.\n",
    "\n",
    "✅ You can register versions of the model in the Workspace registry.\n",
    "\n",
    "✅ You can load models back from the registry inside your notebooks or jobs and call .predict().\n",
    "\n",
    "❌ You cannot create a REST-serving endpoint with w.serving_endpoints.create.\n",
    "\n",
    "\uD83D\uDC49 In other words:\n",
    "\n",
    "Registering = Allowed"
   ]
  }
 ],
 "metadata": {
  "application/vnd.databricks.v1+notebook": {
   "computePreferences": null,
   "dashboards": [],
   "environmentMetadata": {
    "base_environment": "",
    "environment_version": "2"
   },
   "inputWidgetPreferences": null,
   "language": "python",
   "notebookMetadata": {
    "mostRecentlyExecutedCommandWithImplicitDF": {
     "commandId": -1,
     "dataframes": [
      "_sqldf"
     ]
    },
    "pythonIndentUnit": 4
   },
   "notebookName": "Customers_Orders Big Data Assignment",
   "widgets": {}
  },
  "language_info": {
   "name": "python"
  }
 },
 "nbformat": 4,
 "nbformat_minor": 0
}