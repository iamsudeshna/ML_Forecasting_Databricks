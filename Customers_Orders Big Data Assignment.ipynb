{
 "cells": [
  {
   "cell_type": "code",
   "execution_count": 0,
   "metadata": {
    "application/vnd.databricks.v1+cell": {
     "cellMetadata": {
      "byteLimit": 2048000,
      "rowLimit": 10000
     },
     "inputWidgets": {},
     "nuid": "96b4792f-fd26-4aef-bb2f-951fa01a4c8d",
     "showTitle": false,
     "tableResultSettingsMap": {},
     "title": ""
    }
   },
   "outputs": [],
   "source": [
    "from pyspark.sql.types import StructType, StructField, StringType, IntegerType, DoubleType, DateType\n",
    "from datetime import datetime\n",
    "from pyspark.sql.functions import year, month, to_date, col, sum, count, lag, round, when, struct, max\n",
    "from pyspark.sql.window import Window"
   ]
  },
  {
   "cell_type": "markdown",
   "metadata": {
    "application/vnd.databricks.v1+cell": {
     "cellMetadata": {
      "byteLimit": 2048000,
      "rowLimit": 10000
     },
     "inputWidgets": {},
     "nuid": "81d8c1bd-ea4f-4d67-847f-2978a9c04f85",
     "showTitle": false,
     "tableResultSettingsMap": {},
     "title": ""
    }
   },
   "source": [
    "# **Landing Zone**"
   ]
  },
  {
   "cell_type": "markdown",
   "metadata": {
    "application/vnd.databricks.v1+cell": {
     "cellMetadata": {
      "byteLimit": 2048000,
      "rowLimit": 10000
     },
     "inputWidgets": {},
     "nuid": "68bdc6e3-7e0a-49ac-aa52-4ffb7912d41b",
     "showTitle": false,
     "tableResultSettingsMap": {},
     "title": ""
    }
   },
   "source": [
    "_Orders_ _Data_"
   ]
  },
  {
   "cell_type": "code",
   "execution_count": 0,
   "metadata": {
    "application/vnd.databricks.v1+cell": {
     "cellMetadata": {
      "byteLimit": 2048000,
      "rowLimit": 10000
     },
     "inputWidgets": {},
     "nuid": "69d71239-0ba4-48db-b38c-d0e41f966ece",
     "showTitle": false,
     "tableResultSettingsMap": {},
     "title": ""
    }
   },
   "outputs": [],
   "source": [
    "orders_schema = StructType([\n",
    "    StructField(\"index\",StringType(), True),\n",
    "    StructField(\"order_id\", StringType(), True),\n",
    "    StructField(\"order_date\", StringType(), True),\n",
    "    StructField(\"item_id\", StringType(), True),\n",
    "    StructField(\"qty_ordered\", IntegerType(), True),\n",
    "    StructField(\"price\", DoubleType(), True),\n",
    "    StructField(\"value\", DoubleType(), True),\n",
    "    StructField(\"discount_amount\", DoubleType(), True),\n",
    "    StructField(\"total\", DoubleType(), True),\n",
    "    StructField(\"category\", StringType(), True),\n",
    "    StructField(\"payment_method\", StringType(), True),\n",
    "    StructField(\"cust_id\", StringType(), True),\n",
    "    StructField(\"final_status\", StringType(), True)\n",
    "])\n"
   ]
  },
  {
   "cell_type": "code",
   "execution_count": 0,
   "metadata": {
    "application/vnd.databricks.v1+cell": {
     "cellMetadata": {
      "byteLimit": 2048000,
      "rowLimit": 10000
     },
     "inputWidgets": {},
     "nuid": "83fd7ed3-6210-4b2b-836d-497e2223d09e",
     "showTitle": false,
     "tableResultSettingsMap": {},
     "title": ""
    }
   },
   "outputs": [
    {
     "output_type": "display_data",
     "data": {
      "text/html": [
       "<style scoped>\n",
       "  .table-result-container {\n",
       "    max-height: 300px;\n",
       "    overflow: auto;\n",
       "  }\n",
       "  table, th, td {\n",
       "    border: 1px solid black;\n",
       "    border-collapse: collapse;\n",
       "  }\n",
       "  th, td {\n",
       "    padding: 5px;\n",
       "  }\n",
       "  th {\n",
       "    text-align: left;\n",
       "  }\n",
       "</style><div class='table-result-container'><table class='table-result'><thead style='background-color: white'><tr><th>index</th><th>order_id</th><th>order_date</th><th>item_id</th><th>qty_ordered</th><th>price</th><th>value</th><th>discount_amount</th><th>total</th><th>category</th><th>payment_method</th><th>cust_id</th><th>final_status</th></tr></thead><tbody><tr><td>296</td><td>100438643</td><td>21/01/21</td><td>718698</td><td>2</td><td>6979.2</td><td>6979.2</td><td>0.0</td><td>6979.2</td><td>Mobiles & Tablets</td><td>cod</td><td>6702</td><td>cancelled</td></tr><tr><td>297</td><td>100439395</td><td>24/01/21</td><td>719994</td><td>2</td><td>6979.2</td><td>6979.2</td><td>0.0</td><td>6979.2</td><td>Mobiles & Tablets</td><td>cod</td><td>6702</td><td>received</td></tr><tr><td>298</td><td>100439912</td><td>25/01/21</td><td>721015</td><td>2</td><td>255.9</td><td>255.9</td><td>0.0</td><td>255.9</td><td>Men's Fashion</td><td>cod</td><td>6702</td><td>cancelled</td></tr><tr><td>407</td><td>100437996</td><td>18/01/21</td><td>717518</td><td>2</td><td>1894.6</td><td>1894.6</td><td>0.0</td><td>1894.6</td><td>Mobiles & Tablets</td><td>Easypay_MA</td><td>55731</td><td>cancelled</td></tr><tr><td>606</td><td>100430519</td><td>01/01/21</td><td>703609</td><td>2</td><td>49.9</td><td>49.9</td><td>0.0</td><td>49.9</td><td>Appliances</td><td>easypay_voucher</td><td>44445</td><td>cancelled</td></tr></tbody></table></div>"
      ]
     },
     "metadata": {
      "application/vnd.databricks.v1+output": {
       "addedWidgets": {},
       "aggData": [],
       "aggError": "",
       "aggOverflow": false,
       "aggSchema": [],
       "aggSeriesLimitReached": false,
       "aggType": "",
       "arguments": {},
       "columnCustomDisplayInfos": {},
       "data": [
        [
         "296",
         "100438643",
         "21/01/21",
         "718698",
         2,
         6979.2,
         6979.2,
         0.0,
         6979.2,
         "Mobiles & Tablets",
         "cod",
         "6702",
         "cancelled"
        ],
        [
         "297",
         "100439395",
         "24/01/21",
         "719994",
         2,
         6979.2,
         6979.2,
         0.0,
         6979.2,
         "Mobiles & Tablets",
         "cod",
         "6702",
         "received"
        ],
        [
         "298",
         "100439912",
         "25/01/21",
         "721015",
         2,
         255.9,
         255.9,
         0.0,
         255.9,
         "Men's Fashion",
         "cod",
         "6702",
         "cancelled"
        ],
        [
         "407",
         "100437996",
         "18/01/21",
         "717518",
         2,
         1894.6,
         1894.6,
         0.0,
         1894.6,
         "Mobiles & Tablets",
         "Easypay_MA",
         "55731",
         "cancelled"
        ],
        [
         "606",
         "100430519",
         "01/01/21",
         "703609",
         2,
         49.9,
         49.9,
         0.0,
         49.9,
         "Appliances",
         "easypay_voucher",
         "44445",
         "cancelled"
        ]
       ],
       "datasetInfos": [],
       "dbfsResultPath": null,
       "isJsonSchema": true,
       "metadata": {},
       "overflow": false,
       "plotOptions": {
        "customPlotOptions": {},
        "displayType": "table",
        "pivotAggregation": null,
        "pivotColumns": null,
        "xColumns": null,
        "yColumns": null
       },
       "removedWidgets": [],
       "schema": [
        {
         "metadata": "{}",
         "name": "index",
         "type": "\"string\""
        },
        {
         "metadata": "{}",
         "name": "order_id",
         "type": "\"string\""
        },
        {
         "metadata": "{}",
         "name": "order_date",
         "type": "\"string\""
        },
        {
         "metadata": "{}",
         "name": "item_id",
         "type": "\"string\""
        },
        {
         "metadata": "{}",
         "name": "qty_ordered",
         "type": "\"long\""
        },
        {
         "metadata": "{}",
         "name": "price",
         "type": "\"double\""
        },
        {
         "metadata": "{}",
         "name": "value",
         "type": "\"double\""
        },
        {
         "metadata": "{}",
         "name": "discount_amount",
         "type": "\"double\""
        },
        {
         "metadata": "{}",
         "name": "total",
         "type": "\"double\""
        },
        {
         "metadata": "{}",
         "name": "category",
         "type": "\"string\""
        },
        {
         "metadata": "{}",
         "name": "payment_method",
         "type": "\"string\""
        },
        {
         "metadata": "{}",
         "name": "cust_id",
         "type": "\"string\""
        },
        {
         "metadata": "{}",
         "name": "final_status",
         "type": "\"string\""
        }
       ],
       "type": "table"
      }
     },
     "output_type": "display_data"
    }
   ],
   "source": [
    "file_paths = [\"/Volumes/workspace/default/customer_and_orders_volume/orders_01_21.csv\",\n",
    "              \"/Volumes/workspace/default/customer_and_orders_volume/orders_02_21.csv\",\n",
    "              \"/Volumes/workspace/default/customer_and_orders_volume/orders_03_21.csv\",\n",
    "              \"/Volumes/workspace/default/customer_and_orders_volume/orders_04_21.csv\",\n",
    "              \"/Volumes/workspace/default/customer_and_orders_volume/orders_05_21.csv\",\n",
    "              \"/Volumes/workspace/default/customer_and_orders_volume/orders_06_21.csv\",\n",
    "              \"/Volumes/workspace/default/customer_and_orders_volume/orders_07_21.csv\",\n",
    "              \"/Volumes/workspace/default/customer_and_orders_volume/orders_08_21.csv\",\n",
    "              \"/Volumes/workspace/default/customer_and_orders_volume/orders_09_21.csv\"\n",
    "]\n",
    "# Reading the first file with schema\n",
    "orders_df = spark.read.csv(file_paths[0], header=True, schema=orders_schema)\n",
    "display(orders_df.head(5))"
   ]
  },
  {
   "cell_type": "code",
   "execution_count": 0,
   "metadata": {
    "application/vnd.databricks.v1+cell": {
     "cellMetadata": {
      "byteLimit": 2048000,
      "rowLimit": 10000
     },
     "inputWidgets": {},
     "nuid": "0fcca243-3054-422e-97cf-50a635fcf874",
     "showTitle": false,
     "tableResultSettingsMap": {},
     "title": ""
    }
   },
   "outputs": [
    {
     "output_type": "stream",
     "name": "stdout",
     "output_type": "stream",
     "text": [
      "17212\n"
     ]
    }
   ],
   "source": [
    "print(orders_df.count())"
   ]
  },
  {
   "cell_type": "code",
   "execution_count": 0,
   "metadata": {
    "application/vnd.databricks.v1+cell": {
     "cellMetadata": {
      "byteLimit": 2048000,
      "rowLimit": 10000
     },
     "inputWidgets": {},
     "nuid": "e46f96c2-157f-4033-b88b-1318a66489f5",
     "showTitle": false,
     "tableResultSettingsMap": {},
     "title": ""
    }
   },
   "outputs": [
    {
     "output_type": "display_data",
     "data": {
      "text/plain": [
       "\u001B[0;31m---------------------------------------------------------------------------\u001B[0m\n",
       "\u001B[0;31mAttributeError\u001B[0m                            Traceback (most recent call last)\n",
       "File \u001B[0;32m<command-6828330260292727>, line 5\u001B[0m\n",
       "\u001B[1;32m      3\u001B[0m     df_part \u001B[38;5;241m=\u001B[39m spark\u001B[38;5;241m.\u001B[39mread\u001B[38;5;241m.\u001B[39mcsv(file, header\u001B[38;5;241m=\u001B[39m\u001B[38;5;28;01mTrue\u001B[39;00m, schema\u001B[38;5;241m=\u001B[39morders_schema)\n",
       "\u001B[1;32m      4\u001B[0m     orders_df \u001B[38;5;241m=\u001B[39m orders_df\u001B[38;5;241m.\u001B[39munion(df_part)\n",
       "\u001B[0;32m----> 5\u001B[0m orders_df\u001B[38;5;241m.\u001B[39mhead(\u001B[38;5;241m5\u001B[39m)\u001B[38;5;241m.\u001B[39mshow(truncate\u001B[38;5;241m=\u001B[39m\u001B[38;5;28;01mFalse\u001B[39;00m)\n",
       "\n",
       "\u001B[0;31mAttributeError\u001B[0m: 'list' object has no attribute 'show'"
      ]
     },
     "metadata": {
      "application/vnd.databricks.v1+output": {
       "addedWidgets": {},
       "arguments": {},
       "datasetInfos": [],
       "jupyterProps": {
        "ename": "AttributeError",
        "evalue": "'list' object has no attribute 'show'"
       },
       "metadata": {
        "errorSummary": "<span class='ansi-red-fg'>AttributeError</span>: 'list' object has no attribute 'show'"
       },
       "removedWidgets": [],
       "sqlProps": null,
       "stackFrames": [
        "\u001B[0;31m---------------------------------------------------------------------------\u001B[0m",
        "\u001B[0;31mAttributeError\u001B[0m                            Traceback (most recent call last)",
        "File \u001B[0;32m<command-6828330260292727>, line 5\u001B[0m\n\u001B[1;32m      3\u001B[0m     df_part \u001B[38;5;241m=\u001B[39m spark\u001B[38;5;241m.\u001B[39mread\u001B[38;5;241m.\u001B[39mcsv(file, header\u001B[38;5;241m=\u001B[39m\u001B[38;5;28;01mTrue\u001B[39;00m, schema\u001B[38;5;241m=\u001B[39morders_schema)\n\u001B[1;32m      4\u001B[0m     orders_df \u001B[38;5;241m=\u001B[39m orders_df\u001B[38;5;241m.\u001B[39munion(df_part)\n\u001B[0;32m----> 5\u001B[0m orders_df\u001B[38;5;241m.\u001B[39mhead(\u001B[38;5;241m5\u001B[39m)\u001B[38;5;241m.\u001B[39mshow(truncate\u001B[38;5;241m=\u001B[39m\u001B[38;5;28;01mFalse\u001B[39;00m)\n",
        "\u001B[0;31mAttributeError\u001B[0m: 'list' object has no attribute 'show'"
       ],
       "type": "baseError"
      }
     },
     "output_type": "display_data"
    }
   ],
   "source": [
    "# Reading and union the rest\n",
    "for file in file_paths[1:]:\n",
    "    df_part = spark.read.csv(file, header=True, schema=orders_schema)\n",
    "    orders_df = orders_df.union(df_part)\n",
    "orders_df.head(5).show(truncate=False)"
   ]
  },
  {
   "cell_type": "markdown",
   "metadata": {
    "application/vnd.databricks.v1+cell": {
     "cellMetadata": {
      "byteLimit": 2048000,
      "rowLimit": 10000
     },
     "inputWidgets": {},
     "nuid": "5011c268-3974-4ae1-a6e6-e22895df5772",
     "showTitle": false,
     "tableResultSettingsMap": {},
     "title": ""
    }
   },
   "source": [
    "_Customers Data_"
   ]
  },
  {
   "cell_type": "code",
   "execution_count": 0,
   "metadata": {
    "application/vnd.databricks.v1+cell": {
     "cellMetadata": {
      "byteLimit": 2048000,
      "rowLimit": 10000
     },
     "inputWidgets": {},
     "nuid": "001cc652-4c92-44e1-b647-502ee5fc3995",
     "showTitle": false,
     "tableResultSettingsMap": {},
     "title": ""
    }
   },
   "outputs": [
    {
     "output_type": "display_data",
     "data": {
      "text/plain": [
       ""
      ]
     },
     "metadata": {
      "application/vnd.databricks.v1+output": {
       "addedWidgets": {},
       "arguments": {},
       "datasetInfos": [],
       "jupyterProps": null,
       "metadata": {
        "errorSummary": "Command skipped"
       },
       "removedWidgets": [],
       "sqlProps": null,
       "stackFrames": [],
       "type": "baseError"
      }
     },
     "output_type": "display_data"
    }
   ],
   "source": [
    "customers_schema = StructType([\n",
    "    StructField(\"City\", StringType(), True),\n",
    "    StructField(\"County\", StringType(), True),\n",
    "    StructField(\"Customer Since\", DateType(), True),\n",
    "    StructField(\"E Mail\", StringType(), True),\n",
    "    StructField(\"Gender\", StringType(), True),\n",
    "    StructField(\"Place Name\", StringType(), True),\n",
    "    StructField(\"Region\", StringType(), True),\n",
    "    StructField(\"State\", StringType(), True),\n",
    "    StructField(\"Zip\", StringType(), True),\n",
    "    StructField(\"Age\", IntegerType(), True),\n",
    "    StructField(\"cust_id\", StringType(), True),\n",
    "    StructField(\"full_name\", StringType(), True)\n",
    "])"
   ]
  },
  {
   "cell_type": "code",
   "execution_count": 0,
   "metadata": {
    "application/vnd.databricks.v1+cell": {
     "cellMetadata": {
      "byteLimit": 2048000,
      "rowLimit": 10000
     },
     "inputWidgets": {},
     "nuid": "6769dd55-16cc-496f-8dd9-333e30540f62",
     "showTitle": false,
     "tableResultSettingsMap": {},
     "title": ""
    }
   },
   "outputs": [
    {
     "output_type": "display_data",
     "data": {
      "text/plain": [
       ""
      ]
     },
     "metadata": {
      "application/vnd.databricks.v1+output": {
       "addedWidgets": {},
       "arguments": {},
       "datasetInfos": [],
       "jupyterProps": null,
       "metadata": {
        "errorSummary": "Command skipped"
       },
       "removedWidgets": [],
       "sqlProps": null,
       "stackFrames": [],
       "type": "baseError"
      }
     },
     "output_type": "display_data"
    }
   ],
   "source": [
    "customers_df = spark.read.json(\"/Volumes/workspace/default/customer_and_orders_volume/customers.json\")\n",
    "\n",
    "# Cleaning column names: removal of spaces, special chars, making to lowercase\n",
    "def clean_column_names(df):\n",
    "    for col_name in df.columns:\n",
    "        new_col_name = col_name.strip().lower().replace(\" \", \"_\").replace(\"-\", \"_\")\n",
    "        df = df.withColumnRenamed(col_name, new_col_name)\n",
    "    return df\n",
    "\n",
    "# Apply cleaning\n",
    "customers_df_cleaned = clean_column_names(customers_df)\n",
    "customers_df_cleaned.show()"
   ]
  },
  {
   "cell_type": "markdown",
   "metadata": {
    "application/vnd.databricks.v1+cell": {
     "cellMetadata": {
      "byteLimit": 2048000,
      "rowLimit": 10000
     },
     "inputWidgets": {},
     "nuid": "704c159c-bee8-43a2-a24e-9de25f07ee80",
     "showTitle": false,
     "tableResultSettingsMap": {},
     "title": ""
    }
   },
   "source": [
    "# **Staging Layer**\n",
    "#### Cleaned and Partitioned Data\n",
    "Now we clean, transform, and optimize this orders for downstream querying."
   ]
  },
  {
   "cell_type": "code",
   "execution_count": 0,
   "metadata": {
    "application/vnd.databricks.v1+cell": {
     "cellMetadata": {
      "byteLimit": 2048000,
      "rowLimit": 10000
     },
     "inputWidgets": {},
     "nuid": "8d768da6-7102-43b2-9b54-215d844d58ec",
     "showTitle": false,
     "tableResultSettingsMap": {},
     "title": ""
    }
   },
   "outputs": [
    {
     "output_type": "display_data",
     "data": {
      "text/plain": [
       ""
      ]
     },
     "metadata": {
      "application/vnd.databricks.v1+output": {
       "addedWidgets": {},
       "arguments": {},
       "datasetInfos": [],
       "jupyterProps": null,
       "metadata": {
        "errorSummary": "Command skipped"
       },
       "removedWidgets": [],
       "sqlProps": null,
       "stackFrames": [],
       "type": "baseError"
      }
     },
     "output_type": "display_data"
    }
   ],
   "source": [
    "# Add partitioning columns\n",
    "orders_landing_df = orders_df\n",
    "orders_stage_df = orders_landing_df.withColumn(\"order_date_parsed\", to_date(\"order_date\", \"dd/MM/yy\")).withColumn(\"order_year\", year(\"order_date_parsed\")).withColumn(\"order_month\", month(\"order_date_parsed\"))\n",
    "orders_stage_df.show()"
   ]
  },
  {
   "cell_type": "markdown",
   "metadata": {
    "application/vnd.databricks.v1+cell": {
     "cellMetadata": {
      "byteLimit": 2048000,
      "rowLimit": 10000
     },
     "inputWidgets": {},
     "nuid": "1591c45f-4533-4906-a983-3bf62a36196e",
     "showTitle": false,
     "tableResultSettingsMap": {},
     "title": ""
    }
   },
   "source": [
    "We now clean customers and add in staging layer\n",
    "Loading from landing"
   ]
  },
  {
   "cell_type": "code",
   "execution_count": 0,
   "metadata": {
    "application/vnd.databricks.v1+cell": {
     "cellMetadata": {
      "byteLimit": 2048000,
      "rowLimit": 10000
     },
     "inputWidgets": {},
     "nuid": "9e1627a6-1be5-493c-bbdf-2139bc046556",
     "showTitle": false,
     "tableResultSettingsMap": {},
     "title": ""
    }
   },
   "outputs": [
    {
     "output_type": "display_data",
     "data": {
      "text/plain": [
       ""
      ]
     },
     "metadata": {
      "application/vnd.databricks.v1+output": {
       "addedWidgets": {},
       "arguments": {},
       "datasetInfos": [],
       "jupyterProps": null,
       "metadata": {
        "errorSummary": "Command skipped"
       },
       "removedWidgets": [],
       "sqlProps": null,
       "stackFrames": [],
       "type": "baseError"
      }
     },
     "output_type": "display_data"
    }
   ],
   "source": [
    "\n",
    "# customers_landing_df = spark.read.format(\"delta\").load(\"/mnt/data_lake/landing/Customers_data\")\n",
    "\n",
    "# Cleaning date and email\n",
    "# customers_stage_df = customers_landing_df.withColumnRenamed(\"Customer Since\", \"customer_since\").withColumnRenamed(\"E Mail\", \"email\")\n",
    "customers_stage_df = customers_df_cleaned.withColumnRenamed(\"Customer Since\", \"customer_since\").withColumnRenamed(\"E Mail\", \"email\")\n",
    "\n",
    "# Writing to staging zone\n",
    "# customers_stage_df.write.format(\"delta\").mode(\"overwrite\").save(\"/mnt/data_lake/staging/Customers_data\")\n",
    "customers_stage_df.show()\n"
   ]
  },
  {
   "cell_type": "code",
   "execution_count": 0,
   "metadata": {
    "application/vnd.databricks.v1+cell": {
     "cellMetadata": {
      "byteLimit": 2048000,
      "rowLimit": 10000
     },
     "inputWidgets": {},
     "nuid": "1f2f22fe-ec7f-4685-b978-4c2fb978e473",
     "showTitle": false,
     "tableResultSettingsMap": {},
     "title": ""
    }
   },
   "outputs": [
    {
     "output_type": "display_data",
     "data": {
      "text/plain": [
       ""
      ]
     },
     "metadata": {
      "application/vnd.databricks.v1+output": {
       "addedWidgets": {},
       "arguments": {},
       "datasetInfos": [],
       "jupyterProps": null,
       "metadata": {
        "errorSummary": "Command skipped"
       },
       "removedWidgets": [],
       "sqlProps": null,
       "stackFrames": [],
       "type": "baseError"
      }
     },
     "output_type": "display_data"
    }
   ],
   "source": [
    "# Performing JOIN and aggregation\n",
    "result_dataframe = orders_stage_df.alias(\"o\").join(customers_stage_df.alias(\"c\"), on=\"cust_id\", how=\"inner\").groupBy(\"c.full_name\", \"c.e_mail\").agg(count(\"o.order_id\").alias(\"total_orders\"),sum(\"o.total\").alias(\"total_spent\")).orderBy(\"total_spent\", ascending=False)\n",
    "\n",
    "# Showing results\n",
    "result_dataframe.show(10)"
   ]
  },
  {
   "cell_type": "markdown",
   "metadata": {
    "application/vnd.databricks.v1+cell": {
     "cellMetadata": {
      "byteLimit": 2048000,
      "rowLimit": 10000
     },
     "inputWidgets": {},
     "nuid": "e2ef2192-7f6d-41e8-bc30-71d9ab318e63",
     "showTitle": false,
     "tableResultSettingsMap": {},
     "title": ""
    }
   },
   "source": [
    "# **Curated Zone**"
   ]
  },
  {
   "cell_type": "markdown",
   "metadata": {
    "application/vnd.databricks.v1+cell": {
     "cellMetadata": {
      "byteLimit": 2048000,
      "rowLimit": 10000
     },
     "inputWidgets": {},
     "nuid": "dcd833c4-e30e-4e45-910c-fca27fd012e0",
     "showTitle": false,
     "tableResultSettingsMap": {},
     "title": ""
    }
   },
   "source": [
    "**1. Order Volume and Revenue by Year, Month, Category**"
   ]
  },
  {
   "cell_type": "code",
   "execution_count": 0,
   "metadata": {
    "application/vnd.databricks.v1+cell": {
     "cellMetadata": {
      "byteLimit": 2048000,
      "rowLimit": 10000
     },
     "inputWidgets": {},
     "nuid": "0014a3f1-4259-431e-b2e3-4af28ee8f2bd",
     "showTitle": false,
     "tableResultSettingsMap": {},
     "title": ""
    }
   },
   "outputs": [
    {
     "output_type": "display_data",
     "data": {
      "text/plain": [
       ""
      ]
     },
     "metadata": {
      "application/vnd.databricks.v1+output": {
       "addedWidgets": {},
       "arguments": {},
       "datasetInfos": [],
       "jupyterProps": null,
       "metadata": {
        "errorSummary": "Command skipped"
       },
       "removedWidgets": [],
       "sqlProps": null,
       "stackFrames": [],
       "type": "baseError"
      }
     },
     "output_type": "display_data"
    }
   ],
   "source": [
    "order_summary_dataframe = orders_stage_df.groupBy(\"order_year\",\"order_month\",\"category\").agg(count(\"order_id\").alias(\"total_orders\"),sum(\"total\").alias(\"total_revenue\"))\n",
    "order_summary_dataframe.show(70)"
   ]
  },
  {
   "cell_type": "markdown",
   "metadata": {
    "application/vnd.databricks.v1+cell": {
     "cellMetadata": {
      "byteLimit": 2048000,
      "rowLimit": 10000
     },
     "inputWidgets": {},
     "nuid": "dd78b6f8-f668-48ca-8df5-72f393f6eb5a",
     "showTitle": false,
     "tableResultSettingsMap": {},
     "title": ""
    }
   },
   "source": [
    "**2. Revenue growth by categories from previous month to this month.**"
   ]
  },
  {
   "cell_type": "code",
   "execution_count": 0,
   "metadata": {
    "application/vnd.databricks.v1+cell": {
     "cellMetadata": {
      "byteLimit": 2048000,
      "rowLimit": 10000
     },
     "inputWidgets": {},
     "nuid": "77ddad24-4f90-4b0c-91f0-60e71caff347",
     "showTitle": false,
     "tableResultSettingsMap": {},
     "title": ""
    }
   },
   "outputs": [
    {
     "output_type": "display_data",
     "data": {
      "text/plain": [
       ""
      ]
     },
     "metadata": {
      "application/vnd.databricks.v1+output": {
       "addedWidgets": {},
       "arguments": {},
       "datasetInfos": [],
       "jupyterProps": null,
       "metadata": {
        "errorSummary": "Command skipped"
       },
       "removedWidgets": [],
       "sqlProps": null,
       "stackFrames": [],
       "type": "baseError"
      }
     },
     "output_type": "display_data"
    }
   ],
   "source": [
    "# Filtering for received orders only\n",
    "df_filtered = orders_stage_df.filter(col(\"final_status\") == \"received\")\n",
    "\n",
    "revenue_df = df_filtered.groupBy(\n",
    "    year(\"order_date_parsed\").alias(\"year\"),\n",
    "    month(\"order_date_parsed\").alias(\"month\"),\n",
    "    \"category\"\n",
    ").agg(sum(\"total\").alias(\"revenue\"))\n",
    "revenue_df.show(50)"
   ]
  },
  {
   "cell_type": "code",
   "execution_count": 0,
   "metadata": {
    "application/vnd.databricks.v1+cell": {
     "cellMetadata": {
      "byteLimit": 2048000,
      "rowLimit": 10000
     },
     "inputWidgets": {},
     "nuid": "7b9cbb1c-f385-4d6f-9541-71ae739bfacd",
     "showTitle": false,
     "tableResultSettingsMap": {},
     "title": ""
    }
   },
   "outputs": [
    {
     "output_type": "display_data",
     "data": {
      "text/plain": [
       ""
      ]
     },
     "metadata": {
      "application/vnd.databricks.v1+output": {
       "addedWidgets": {},
       "arguments": {},
       "datasetInfos": [],
       "jupyterProps": null,
       "metadata": {
        "errorSummary": "Command skipped"
       },
       "removedWidgets": [],
       "sqlProps": null,
       "stackFrames": [],
       "type": "baseError"
      }
     },
     "output_type": "display_data"
    }
   ],
   "source": [
    "\n",
    "# Defining window to get previous month's revenue per category\n",
    "window_spec = Window.partitionBy(\"category\").orderBy(\"year\", \"month\")\n",
    "\n",
    "# Add previous month's revenue column\n",
    "revenue_with_lag = revenue_df.withColumn(\n",
    "    \"prev_month_revenue\", lag(\"revenue\").over(window_spec)\n",
    ")\n",
    "revenue_with_lag.show()\n"
   ]
  },
  {
   "cell_type": "code",
   "execution_count": 0,
   "metadata": {
    "application/vnd.databricks.v1+cell": {
     "cellMetadata": {
      "byteLimit": 2048000,
      "rowLimit": 10000
     },
     "inputWidgets": {},
     "nuid": "ddd6de18-1ebc-480b-a603-685e2f8f15f9",
     "showTitle": false,
     "tableResultSettingsMap": {},
     "title": ""
    }
   },
   "outputs": [
    {
     "output_type": "display_data",
     "data": {
      "text/plain": [
       ""
      ]
     },
     "metadata": {
      "application/vnd.databricks.v1+output": {
       "addedWidgets": {},
       "arguments": {},
       "datasetInfos": [],
       "jupyterProps": null,
       "metadata": {
        "errorSummary": "Command skipped"
       },
       "removedWidgets": [],
       "sqlProps": null,
       "stackFrames": [],
       "type": "baseError"
      }
     },
     "output_type": "display_data"
    }
   ],
   "source": [
    "# Calculating growth percentage\n",
    "revenue_growth = revenue_with_lag.withColumn(\n",
    "    \"growth_percent\",\n",
    "    when(col(\"prev_month_revenue\").isNotNull(),\n",
    "           (col(\"revenue\") - col(\"prev_month_revenue\")) / col(\"prev_month_revenue\")) * 100\n",
    "          )\n",
    "revenue_growth.show()\n"
   ]
  },
  {
   "cell_type": "code",
   "execution_count": 0,
   "metadata": {
    "application/vnd.databricks.v1+cell": {
     "cellMetadata": {
      "byteLimit": 2048000,
      "rowLimit": 10000
     },
     "inputWidgets": {},
     "nuid": "ea9ba406-d65c-479d-8978-488af594e1bf",
     "showTitle": false,
     "tableResultSettingsMap": {},
     "title": ""
    }
   },
   "outputs": [
    {
     "output_type": "display_data",
     "data": {
      "text/plain": [
       ""
      ]
     },
     "metadata": {
      "application/vnd.databricks.v1+output": {
       "addedWidgets": {},
       "arguments": {},
       "datasetInfos": [],
       "jupyterProps": null,
       "metadata": {
        "errorSummary": "Command skipped"
       },
       "removedWidgets": [],
       "sqlProps": null,
       "stackFrames": [],
       "type": "baseError"
      }
     },
     "output_type": "display_data"
    }
   ],
   "source": [
    "# Getting the latest year and month\n",
    "latest_month = revenue_growth.agg(\n",
    "    max(struct(\"year\", \"month\")).alias(\"latest\")\n",
    ").collect()[0][\"latest\"]\n",
    "\n",
    "# Filtering data for the latest month\n",
    "growth_latest = revenue_growth.filter(\n",
    "    (col(\"year\") == latest_month[\"year\"]) &\n",
    "    (col(\"month\") == latest_month[\"month\"])\n",
    ")\n",
    "\n",
    "# Showing the revenue growth for latest month\n",
    "growth_latest.select(\n",
    "    \"category\", \"year\", \"month\",\n",
    "    \"revenue\", \"prev_month_revenue\", \"growth_percent\"\n",
    ").show()\n"
   ]
  },
  {
   "cell_type": "markdown",
   "metadata": {
    "application/vnd.databricks.v1+cell": {
     "cellMetadata": {
      "byteLimit": 2048000,
      "rowLimit": 10000
     },
     "inputWidgets": {},
     "nuid": "a7d30841-ebbc-49bb-bd54-cb1b48aba4e1",
     "showTitle": false,
     "tableResultSettingsMap": {},
     "title": ""
    }
   },
   "source": [
    "##### 3. Which top 5 categories have a maximum number of orders and maximum number of cancellations in the month."
   ]
  },
  {
   "cell_type": "code",
   "execution_count": 0,
   "metadata": {
    "application/vnd.databricks.v1+cell": {
     "cellMetadata": {
      "byteLimit": 2048000,
      "rowLimit": 10000
     },
     "inputWidgets": {},
     "nuid": "167bdff0-2304-4a66-a2c3-d38fa604f39b",
     "showTitle": false,
     "tableResultSettingsMap": {},
     "title": ""
    }
   },
   "outputs": [
    {
     "output_type": "display_data",
     "data": {
      "text/plain": [
       ""
      ]
     },
     "metadata": {
      "application/vnd.databricks.v1+output": {
       "addedWidgets": {},
       "arguments": {},
       "datasetInfos": [],
       "jupyterProps": null,
       "metadata": {
        "errorSummary": "Command skipped"
       },
       "removedWidgets": [],
       "sqlProps": null,
       "stackFrames": [],
       "type": "baseError"
      }
     },
     "output_type": "display_data"
    }
   ],
   "source": [
    "latest_month = orders_stage_df.agg(\n",
    "    max(struct(\"order_year\", \"order_month\")).alias(\"latest\")\n",
    ").collect()[0][\"latest\"]\n",
    "\n",
    "filtered_df3 = orders_stage_df.filter(\n",
    "    (col(\"order_year\") == latest_month[\"order_year\"]) &\n",
    "    (col(\"order_month\") == latest_month[\"order_month\"])\n",
    ")\n",
    "filtered_df3.show()"
   ]
  },
  {
   "cell_type": "code",
   "execution_count": 0,
   "metadata": {
    "application/vnd.databricks.v1+cell": {
     "cellMetadata": {
      "byteLimit": 2048000,
      "rowLimit": 10000
     },
     "inputWidgets": {},
     "nuid": "108e1736-b181-40fb-bfb2-40f329879b77",
     "showTitle": false,
     "tableResultSettingsMap": {},
     "title": ""
    }
   },
   "outputs": [
    {
     "output_type": "display_data",
     "data": {
      "text/plain": [
       ""
      ]
     },
     "metadata": {
      "application/vnd.databricks.v1+output": {
       "addedWidgets": {},
       "arguments": {},
       "datasetInfos": [],
       "jupyterProps": null,
       "metadata": {
        "errorSummary": "Command skipped"
       },
       "removedWidgets": [],
       "sqlProps": null,
       "stackFrames": [],
       "type": "baseError"
      }
     },
     "output_type": "display_data"
    }
   ],
   "source": [
    "# Top 5 Orders\n",
    "\n",
    "top_orders = (\n",
    "    filtered_df3.groupBy(\"category\")\n",
    "    .agg(count(\"*\").alias(\"total_orders\"))\n",
    "    .orderBy(col(\"total_orders\").desc())\n",
    "    .limit(5)\n",
    ")\n",
    "top_orders.show()"
   ]
  },
  {
   "cell_type": "code",
   "execution_count": 0,
   "metadata": {
    "application/vnd.databricks.v1+cell": {
     "cellMetadata": {
      "byteLimit": 2048000,
      "rowLimit": 10000
     },
     "inputWidgets": {},
     "nuid": "fd76b487-5429-49df-9629-793df95e7aca",
     "showTitle": false,
     "tableResultSettingsMap": {},
     "title": ""
    }
   },
   "outputs": [
    {
     "output_type": "display_data",
     "data": {
      "text/plain": [
       ""
      ]
     },
     "metadata": {
      "application/vnd.databricks.v1+output": {
       "addedWidgets": {},
       "arguments": {},
       "datasetInfos": [],
       "jupyterProps": null,
       "metadata": {
        "errorSummary": "Command skipped"
       },
       "removedWidgets": [],
       "sqlProps": null,
       "stackFrames": [],
       "type": "baseError"
      }
     },
     "output_type": "display_data"
    }
   ],
   "source": [
    "# Top 5 Cancellations\n",
    "\n",
    "top_cancellations = (\n",
    "    filtered_df3.filter(col(\"final_status\") == \"cancelled\")\n",
    "    .groupBy(\"category\")\n",
    "    .agg(count(\"*\").alias(\"cancelled_orders\"))\n",
    "    .orderBy(col(\"cancelled_orders\").desc())\n",
    "    .limit(5)\n",
    ")\n",
    "top_cancellations.show()"
   ]
  },
  {
   "cell_type": "code",
   "execution_count": 0,
   "metadata": {
    "application/vnd.databricks.v1+cell": {
     "cellMetadata": {
      "byteLimit": 2048000,
      "rowLimit": 10000
     },
     "inputWidgets": {},
     "nuid": "b5fd3189-4e6f-4c8b-836a-9e1d14df865c",
     "showTitle": false,
     "tableResultSettingsMap": {},
     "title": ""
    }
   },
   "outputs": [
    {
     "output_type": "display_data",
     "data": {
      "text/plain": [
       ""
      ]
     },
     "metadata": {
      "application/vnd.databricks.v1+output": {
       "addedWidgets": {},
       "arguments": {},
       "datasetInfos": [],
       "jupyterProps": null,
       "metadata": {
        "errorSummary": "Command skipped"
       },
       "removedWidgets": [],
       "sqlProps": null,
       "stackFrames": [],
       "type": "baseError"
      }
     },
     "output_type": "display_data"
    }
   ],
   "source": [
    "# Combined result\n",
    "\n",
    "from pyspark.sql.functions import coalesce, lit\n",
    "\n",
    "orders = (\n",
    "    filtered_df3.groupBy(\"category\")\n",
    "    .agg(count(\"*\").alias(\"total_orders\"))\n",
    ")\n",
    "\n",
    "cancellations = (\n",
    "    filtered_df3.filter(col(\"final_status\") == \"cancelled\")\n",
    "    .groupBy(\"category\")\n",
    "    .agg(count(\"*\").alias(\"cancelled_orders\"))\n",
    ")\n",
    "\n",
    "combined = (\n",
    "    orders.join(cancellations, on=\"category\", how=\"outer\")\n",
    "    .fillna(0)\n",
    "    .orderBy(col(\"total_orders\").desc())\n",
    ")\n",
    "combined.show()\n"
   ]
  },
  {
   "cell_type": "markdown",
   "metadata": {
    "application/vnd.databricks.v1+cell": {
     "cellMetadata": {
      "byteLimit": 2048000,
      "rowLimit": 10000
     },
     "inputWidgets": {},
     "nuid": "b31adaef-7a07-4b33-a829-3e598bf1eb39",
     "showTitle": false,
     "tableResultSettingsMap": {},
     "title": ""
    }
   },
   "source": [
    "##### 4 . Segment customers by age: 0-20 as young, 20-35 adults, 35-55 middle-ages and >55 Old. Find the total spend (in percentage of total spend of categories)"
   ]
  },
  {
   "cell_type": "code",
   "execution_count": 0,
   "metadata": {
    "application/vnd.databricks.v1+cell": {
     "cellMetadata": {
      "byteLimit": 2048000,
      "rowLimit": 10000
     },
     "inputWidgets": {},
     "nuid": "850a82fd-1952-4daf-9f20-5bbfdecff8f0",
     "showTitle": false,
     "tableResultSettingsMap": {},
     "title": ""
    }
   },
   "outputs": [
    {
     "output_type": "display_data",
     "data": {
      "text/plain": [
       ""
      ]
     },
     "metadata": {
      "application/vnd.databricks.v1+output": {
       "addedWidgets": {},
       "arguments": {},
       "datasetInfos": [],
       "jupyterProps": null,
       "metadata": {
        "errorSummary": "Command skipped"
       },
       "removedWidgets": [],
       "sqlProps": null,
       "stackFrames": [],
       "type": "baseError"
      }
     },
     "output_type": "display_data"
    }
   ],
   "source": [
    "customers_segmented = customers_stage_df.withColumn(\n",
    "    \"age_group\",\n",
    "    when(col(\"age\") <= 20, \"Young\")\n",
    "    .when((col(\"age\") > 20) & (col(\"age\") <= 35), \"Adults\")\n",
    "    .when((col(\"age\") > 35) & (col(\"age\") <= 55), \"Middle-Age\")\n",
    "    .otherwise(\"Old\"))\n",
    "\n",
    "customers_segmented.show()"
   ]
  },
  {
   "cell_type": "code",
   "execution_count": 0,
   "metadata": {
    "application/vnd.databricks.v1+cell": {
     "cellMetadata": {
      "byteLimit": 2048000,
      "rowLimit": 10000
     },
     "inputWidgets": {},
     "nuid": "fdb01a52-5a77-47c4-b201-d6dfb3bb256c",
     "showTitle": false,
     "tableResultSettingsMap": {},
     "title": ""
    }
   },
   "outputs": [
    {
     "output_type": "display_data",
     "data": {
      "text/plain": [
       ""
      ]
     },
     "metadata": {
      "application/vnd.databricks.v1+output": {
       "addedWidgets": {},
       "arguments": {},
       "datasetInfos": [],
       "jupyterProps": null,
       "metadata": {
        "errorSummary": "Command skipped"
       },
       "removedWidgets": [],
       "sqlProps": null,
       "stackFrames": [],
       "type": "baseError"
      }
     },
     "output_type": "display_data"
    }
   ],
   "source": [
    "orders_cat_distinct = orders_stage_df.select(\"cust_id\", \"category\", \"total\").distinct()\n",
    "customers_expanded = customers_segmented.join(\n",
    "    orders_cat_distinct,\n",
    "    on=\"cust_id\",\n",
    "    how=\"left\"\n",
    ")\n",
    "customers_expanded.show()"
   ]
  },
  {
   "cell_type": "code",
   "execution_count": 0,
   "metadata": {
    "application/vnd.databricks.v1+cell": {
     "cellMetadata": {
      "byteLimit": 2048000,
      "rowLimit": 10000
     },
     "inputWidgets": {},
     "nuid": "360b6054-7520-452e-9f5c-edc57f2d4183",
     "showTitle": false,
     "tableResultSettingsMap": {},
     "title": ""
    }
   },
   "outputs": [
    {
     "output_type": "display_data",
     "data": {
      "text/plain": [
       ""
      ]
     },
     "metadata": {
      "application/vnd.databricks.v1+output": {
       "addedWidgets": {},
       "arguments": {},
       "datasetInfos": [],
       "jupyterProps": null,
       "metadata": {
        "errorSummary": "Command skipped"
       },
       "removedWidgets": [],
       "sqlProps": null,
       "stackFrames": [],
       "type": "baseError"
      }
     },
     "output_type": "display_data"
    }
   ],
   "source": [
    "from pyspark.sql import functions as F\n",
    "\n",
    "# Step 1: Total spend per category\n",
    "total_spend_per_cat = (\n",
    "    customers_expanded\n",
    "    .groupBy(\"category\")\n",
    "    .agg(F.sum(\"total\").alias(\"total_spend\"))\n",
    ")\n",
    "\n",
    "# Step 2: Spend per age group per category\n",
    "spend_by_age_cat = (\n",
    "    customers_expanded\n",
    "    .groupBy(\"category\", \"age_group\")\n",
    "    .agg(F.sum(\"total\").alias(\"age_group_spend\"))\n",
    ")\n",
    "\n",
    "# Step 3: Pivot age group into columns\n",
    "spend_pivot = (\n",
    "    spend_by_age_cat\n",
    "    .groupBy(\"category\")\n",
    "    .pivot(\"age_group\", [\"Young\", \"Adults\", \"Middle-Age\", \"Old\"])\n",
    "    .sum(\"age_group_spend\")\n",
    ")\n",
    "\n",
    "# Step 4: Join with total spend\n",
    "result = (\n",
    "    total_spend_per_cat\n",
    "    .join(spend_pivot, on=\"category\", how=\"left\")\n",
    ")\n",
    "\n",
    "# Step 5: Add percentage columns\n",
    "result_pct = (\n",
    "    result\n",
    "    .withColumn(\"young_%\",       (F.col(\"Young\") / F.col(\"total_spend\") * 100).cast(\"double\"))\n",
    "    .withColumn(\"adult_%\",       (F.col(\"Adults\") / F.col(\"total_spend\") * 100).cast(\"double\"))\n",
    "    .withColumn(\"middle_age_%\",  (F.col(\"Middle-Age\") / F.col(\"total_spend\") * 100).cast(\"double\"))\n",
    "    .withColumn(\"old_%\",         (F.col(\"Old\") / F.col(\"total_spend\") * 100).cast(\"double\"))\n",
    ")\n",
    "\n",
    "# Step 6: Select & order columns\n",
    "final_df = result_pct.select(\n",
    "    \"category\", \"total_spend\",\n",
    "    \"young_%\", \"adult_%\", \"middle_age_%\", \"old_%\"\n",
    ")\n",
    "\n",
    "final_df.show(truncate=False)\n"
   ]
  },
  {
   "cell_type": "code",
   "execution_count": 0,
   "metadata": {
    "application/vnd.databricks.v1+cell": {
     "cellMetadata": {
      "byteLimit": 2048000,
      "rowLimit": 10000
     },
     "inputWidgets": {},
     "nuid": "16c9d0c9-ea40-4ae1-b975-a3e5912620ef",
     "showTitle": false,
     "tableResultSettingsMap": {},
     "title": ""
    }
   },
   "outputs": [
    {
     "output_type": "display_data",
     "data": {
      "text/plain": [
       ""
      ]
     },
     "metadata": {
      "application/vnd.databricks.v1+output": {
       "addedWidgets": {},
       "arguments": {},
       "datasetInfos": [],
       "jupyterProps": null,
       "metadata": {
        "errorSummary": "Command skipped"
       },
       "removedWidgets": [],
       "sqlProps": null,
       "stackFrames": [],
       "type": "baseError"
      }
     },
     "output_type": "display_data"
    }
   ],
   "source": [
    "revenue_df.display()"
   ]
  },
  {
   "cell_type": "code",
   "execution_count": 0,
   "metadata": {
    "application/vnd.databricks.v1+cell": {
     "cellMetadata": {
      "byteLimit": 2048000,
      "rowLimit": 10000
     },
     "inputWidgets": {},
     "nuid": "0fc00e7e-9c43-4cc1-9f06-b04e2f0a7635",
     "showTitle": false,
     "tableResultSettingsMap": {},
     "title": ""
    }
   },
   "outputs": [
    {
     "output_type": "display_data",
     "data": {
      "text/plain": [
       ""
      ]
     },
     "metadata": {
      "application/vnd.databricks.v1+output": {
       "addedWidgets": {},
       "arguments": {},
       "datasetInfos": [],
       "jupyterProps": null,
       "metadata": {
        "errorSummary": "Command skipped"
       },
       "removedWidgets": [],
       "sqlProps": null,
       "stackFrames": [],
       "type": "baseError"
      }
     },
     "output_type": "display_data"
    }
   ],
   "source": [
    "from pyspark.sql.functions import pandas_udf\n",
    "from pyspark.sql.types import *\n",
    "from pyspark.sql.functions import col\n",
    "from pyspark.sql.functions import pandas_udf\n",
    "from pyspark.sql.functions import PandasUDFType  # optional in older versions\n",
    "\n",
    "from pyspark.sql.functions import pandas_udf\n",
    "from pyspark.sql.functions import PandasUDFType\n",
    "from pyspark.sql.types import StructType, StructField, StringType, IntegerType, DoubleType\n",
    "import pandas as pd\n",
    "from statsmodels.tsa.api import SimpleExpSmoothing\n",
    "from statsmodels.tsa.holtwinters import SimpleExpSmoothing\n",
    "import mlflow\n",
    "import mlflow.pyfunc\n",
    "from mlflow.models.signature import infer_signature\n",
    "\n",
    "alpha = 0.6\n",
    "\n",
    "# Output schema\n",
    "schema = StructType([\n",
    "    StructField(\"category\", StringType()),\n",
    "    StructField(\"year\", IntegerType()),\n",
    "    StructField(\"month\", IntegerType()),\n",
    "    StructField(\"revenue\", DoubleType()),\n",
    "    StructField(\"forecast\", DoubleType()),\n",
    "    StructField(\"abs_error\", DoubleType()),\n",
    "    StructField(\"pct_error\", DoubleType())\n",
    "])\n",
    "mlflow.set_tracking_uri(\"databricks\")      # or \"http://127.0.0.1:5000\" if local MLflow\n",
    "mlflow.set_registry_uri(\"databricks-uc\")      # or \"databricks-uc\" if Unity Catalog is enabled\n",
    "\n",
    "def forecast_ses(pdf: pd.DataFrame) -> pd.DataFrame:\n",
    "    pdf = pdf.sort_values(by=[\"year\", \"month\"])\n",
    "    \n",
    "    pdf[\"year\"] = pdf[\"year\"].astype(float) # Cast to float for compatibility with MLflow signature\n",
    "    pdf[\"month\"] = pdf[\"month\"].astype(float)\n",
    "\n",
    "    if len(pdf) < 9:\n",
    "        pdf[\"forecast\"] = None\n",
    "        pdf[\"abs_error\"] = None\n",
    "        pdf[\"pct_error\"] = None\n",
    "        return pdf\n",
    "\n",
    "    ses_model = SimpleExpSmoothing(pdf[\"revenue\"]).fit(\n",
    "        smoothing_level=alpha, optimized=False\n",
    "    )\n",
    "    forecast = ses_model.fittedvalues\n",
    "\n",
    "    pdf[\"forecast\"] = forecast.shift(1)\n",
    "    pdf[\"abs_error\"] = (pdf[\"revenue\"] - pdf[\"forecast\"]).abs()\n",
    "    pdf[\"pct_error\"] = pdf[\"abs_error\"] / pdf[\"revenue\"] * 100\n",
    "\n",
    "    return pdf\n",
    "\n",
    "\n",
    "# Apply grouped forecasting\n",
    "forecast_result = (\n",
    "    revenue_df.groupBy(\"category\")\n",
    "    .applyInPandas(forecast_ses, schema=schema)\n",
    ")\n",
    "\n",
    "forecast_result.show()\n"
   ]
  },
  {
   "cell_type": "code",
   "execution_count": 0,
   "metadata": {
    "application/vnd.databricks.v1+cell": {
     "cellMetadata": {
      "byteLimit": 2048000,
      "rowLimit": 10000
     },
     "inputWidgets": {},
     "nuid": "4d55d683-f3f3-420f-bf85-c2e08331bbb6",
     "showTitle": false,
     "tableResultSettingsMap": {},
     "title": ""
    }
   },
   "outputs": [
    {
     "output_type": "display_data",
     "data": {
      "text/plain": [
       ""
      ]
     },
     "metadata": {
      "application/vnd.databricks.v1+output": {
       "addedWidgets": {},
       "arguments": {},
       "datasetInfos": [],
       "jupyterProps": null,
       "metadata": {
        "errorSummary": "Command skipped"
       },
       "removedWidgets": [],
       "sqlProps": null,
       "stackFrames": [],
       "type": "baseError"
      }
     },
     "output_type": "display_data"
    }
   ],
   "source": [
    "input_example = revenue_df.limit(5).toPandas()\n",
    "\n",
    "# Ensure serializable dtypes\n",
    "input_example[\"year\"] = input_example[\"year\"].astype(float)\n",
    "input_example[\"month\"] = input_example[\"month\"].astype(float)\n",
    "input_example[\"revenue\"] = input_example[\"revenue\"].astype(float)\n",
    "\n",
    "# Handle NaNs and objects\n",
    "input_example = input_example.fillna(0)\n",
    "for col in input_example.select_dtypes(include=[\"object\"]).columns:\n",
    "    input_example[col] = input_example[col].astype(str)\n",
    "\n",
    "# Infer signature using cleaned input\n",
    "signature = infer_signature(\n",
    "    input_example,\n",
    "    forecast_ses(input_example)\n",
    ")\n",
    "\n",
    "print(\"Cleaned input_example ready for MLflow logging\")"
   ]
  },
  {
   "cell_type": "code",
   "execution_count": 0,
   "metadata": {
    "application/vnd.databricks.v1+cell": {
     "cellMetadata": {
      "byteLimit": 2048000,
      "rowLimit": 10000
     },
     "inputWidgets": {},
     "nuid": "9c50b896-3635-473f-85ca-827119d9fb99",
     "showTitle": false,
     "tableResultSettingsMap": {},
     "title": ""
    }
   },
   "outputs": [
    {
     "output_type": "display_data",
     "data": {
      "text/plain": [
       ""
      ]
     },
     "metadata": {
      "application/vnd.databricks.v1+output": {
       "addedWidgets": {},
       "arguments": {},
       "datasetInfos": [],
       "jupyterProps": null,
       "metadata": {
        "errorSummary": "Command skipped"
       },
       "removedWidgets": [],
       "sqlProps": null,
       "stackFrames": [],
       "type": "baseError"
      }
     },
     "output_type": "display_data"
    }
   ],
   "source": [
    "\n",
    "import mlflow\n",
    "from mlflow.models.signature import infer_signature\n",
    "\n",
    "# Ensure any active run is ended\n",
    "if mlflow.active_run():\n",
    "    mlflow.end_run()\n",
    "\n",
    "signature = infer_signature(input_example, forecast_ses(input_example))\n",
    "\n",
    "class SESForecastModel(mlflow.pyfunc.PythonModel):\n",
    "    def __init__(self, alpha=0.6):\n",
    "        self.alpha = alpha\n",
    "\n",
    "    def predict(self, context, model_input: pd.DataFrame) -> pd.DataFrame:\n",
    "        return forecast_ses(model_input)\n",
    "    \n",
    "with mlflow.start_run() as run:\n",
    "    # ✅ Save model to DBFS (no S3 / UC involved)\n",
    "    model_info = mlflow.pyfunc.log_model(\n",
    "        artifact_path=\"SES_model_updated\",\n",
    "        python_model=SESForecastModel(alpha=0.6),\n",
    "        input_example=input_example.head(1),\n",
    "        signature=signature\n",
    "    )\n",
    "\n",
    "run_id = run.info.run_id\n",
    "print(\"Run ID:\", run_id)\n",
    "print(\"Model path (DBFS):\", model_info.model_uri)"
   ]
  },
  {
   "cell_type": "code",
   "execution_count": 0,
   "metadata": {
    "application/vnd.databricks.v1+cell": {
     "cellMetadata": {
      "byteLimit": 2048000,
      "rowLimit": 10000
     },
     "inputWidgets": {},
     "nuid": "dbd6cf9a-4219-416c-913a-d998d222780f",
     "showTitle": false,
     "tableResultSettingsMap": {},
     "title": ""
    }
   },
   "outputs": [
    {
     "output_type": "display_data",
     "data": {
      "text/plain": [
       ""
      ]
     },
     "metadata": {
      "application/vnd.databricks.v1+output": {
       "addedWidgets": {},
       "arguments": {},
       "datasetInfos": [],
       "jupyterProps": null,
       "metadata": {
        "errorSummary": "Command skipped"
       },
       "removedWidgets": [],
       "sqlProps": null,
       "stackFrames": [],
       "type": "baseError"
      }
     },
     "output_type": "display_data"
    }
   ],
   "source": [
    "# Load model from DBFS path\n",
    "loaded_model = mlflow.pyfunc.load_model(model_info.model_uri)\n",
    "\n",
    "# Run predictions\n",
    "predictions = loaded_model.predict(input_example)\n",
    "print(predictions)\n"
   ]
  },
  {
   "cell_type": "markdown",
   "metadata": {
    "application/vnd.databricks.v1+cell": {
     "cellMetadata": {
      "byteLimit": 2048000,
      "rowLimit": 10000
     },
     "inputWidgets": {},
     "nuid": "c5280e0c-ac7b-40b5-9579-4dd005940fab",
     "showTitle": false,
     "tableResultSettingsMap": {},
     "title": ""
    }
   },
   "source": [
    "Register model in model registry. \n",
    "registered_model_name and mlflow.register_model() must be removed → they force Unity Catalog.\n",
    "Databricks free workspace does not have Unity Catalog (UC) or S3 permissions.\n",
    "\n",
    "When we call mlflow.register_model, MLflow tries to push artifacts to S3-backed UC storage, which we don’t have access to → hence the AccessDenied (s3:PutObject) errors.\n",
    "\n",
    "That means:\n",
    "✅ We can log models locally (DBFS).\n",
    "❌ We cannot register them into Unity Catalog in free edition."
   ]
  },
  {
   "cell_type": "code",
   "execution_count": 0,
   "metadata": {
    "application/vnd.databricks.v1+cell": {
     "cellMetadata": {
      "byteLimit": 2048000,
      "rowLimit": 10000
     },
     "inputWidgets": {},
     "nuid": "82edced2-36f6-45ea-88ac-b6702360f73a",
     "showTitle": false,
     "tableResultSettingsMap": {},
     "title": ""
    }
   },
   "outputs": [
    {
     "output_type": "display_data",
     "data": {
      "text/plain": [
       ""
      ]
     },
     "metadata": {
      "application/vnd.databricks.v1+output": {
       "addedWidgets": {},
       "arguments": {},
       "datasetInfos": [],
       "jupyterProps": null,
       "metadata": {
        "errorSummary": "Command skipped"
       },
       "removedWidgets": [],
       "sqlProps": null,
       "stackFrames": [],
       "type": "baseError"
      }
     },
     "output_type": "display_data"
    }
   ],
   "source": [
    "%python\n",
    "print(\"Model URI:\", model_info.model_uri)"
   ]
  },
  {
   "cell_type": "markdown",
   "metadata": {
    "application/vnd.databricks.v1+cell": {
     "cellMetadata": {
      "byteLimit": 2048000,
      "rowLimit": 10000
     },
     "inputWidgets": {},
     "nuid": "2c362aac-0647-4b02-be10-6e6ebd502fe7",
     "showTitle": false,
     "tableResultSettingsMap": {},
     "title": ""
    }
   },
   "source": [
    "Databricks Free Edition you can register models into the Workspace Model Registry (what you already did — your ses_forecasting_model with versions 1 and 2 is proof ✅).\n",
    "\n",
    "What you cannot do in Free Edition:\n",
    "\n",
    "Deploy models to a serving endpoint (real-time REST API).\n",
    "\n",
    "Use Model Monitoring & advanced governance features.\n",
    "\n",
    "Unity Catalog–backed registry (only Pro/Premium).\n",
    "\n",
    "So in Free:\n",
    "\n",
    "✅ You can train and log models with MLflow.\n",
    "\n",
    "✅ You can register versions of the model in the Workspace registry.\n",
    "\n",
    "✅ You can load models back from the registry inside your notebooks or jobs and call .predict().\n",
    "\n",
    "❌ You cannot create a REST-serving endpoint with w.serving_endpoints.create.\n",
    "\n",
    "\uD83D\uDC49 In other words:\n",
    "\n",
    "Registering = Allowed"
   ]
  }
 ],
 "metadata": {
  "application/vnd.databricks.v1+notebook": {
   "computePreferences": null,
   "dashboards": [],
   "environmentMetadata": {
    "base_environment": "",
    "environment_version": "2"
   },
   "inputWidgetPreferences": null,
   "language": "python",
   "notebookMetadata": {
    "mostRecentlyExecutedCommandWithImplicitDF": {
     "commandId": -1,
     "dataframes": [
      "_sqldf"
     ]
    },
    "pythonIndentUnit": 4
   },
   "notebookName": "Customers_Orders Big Data Assignment",
   "widgets": {}
  },
  "language_info": {
   "name": "python"
  }
 },
 "nbformat": 4,
 "nbformat_minor": 0
}